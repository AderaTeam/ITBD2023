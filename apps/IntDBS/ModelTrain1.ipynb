{
 "cells": [
  {
   "cell_type": "code",
   "execution_count": 9,
   "id": "d3d1308d-ed4b-460b-be56-e64574b4c25f",
   "metadata": {
    "collapsed": true,
    "execution": {
     "iopub.execute_input": "2023-11-23T17:40:23.168438Z",
     "iopub.status.busy": "2023-11-23T17:40:23.167373Z",
     "iopub.status.idle": "2023-11-23T17:40:45.247501Z",
     "shell.execute_reply": "2023-11-23T17:40:45.246203Z",
     "shell.execute_reply.started": "2023-11-23T17:40:23.168370Z"
    },
    "jupyter": {
     "outputs_hidden": true
    },
    "tags": []
   },
   "outputs": [
    {
     "name": "stdout",
     "output_type": "stream",
     "text": [
      "Defaulting to user installation because normal site-packages is not writeable\n",
      "Requirement already satisfied: transformers in /home/jupyter/.local/lib/python3.10/site-packages (4.35.2)\n",
      "Requirement already satisfied: filelock in /usr/local/lib/python3.10/dist-packages (from transformers) (3.12.2)\n",
      "Requirement already satisfied: huggingface-hub<1.0,>=0.16.4 in /home/jupyter/.local/lib/python3.10/site-packages (from transformers) (0.19.4)\n",
      "Requirement already satisfied: numpy>=1.17 in /usr/local/lib/python3.10/dist-packages (from transformers) (1.22.4)\n",
      "Requirement already satisfied: packaging>=20.0 in /kernel/lib/python3.10/site-packages (from transformers) (23.2)\n",
      "Requirement already satisfied: pyyaml>=5.1 in /usr/local/lib/python3.10/dist-packages (from transformers) (6.0.1)\n",
      "Requirement already satisfied: regex!=2019.12.17 in /usr/local/lib/python3.10/dist-packages (from transformers) (2022.10.31)\n",
      "Requirement already satisfied: requests in /usr/local/lib/python3.10/dist-packages (from transformers) (2.27.1)\n",
      "Requirement already satisfied: tokenizers<0.19,>=0.14 in /home/jupyter/.local/lib/python3.10/site-packages (from transformers) (0.15.0)\n",
      "Requirement already satisfied: safetensors>=0.3.1 in /home/jupyter/.local/lib/python3.10/site-packages (from transformers) (0.4.0)\n",
      "Requirement already satisfied: tqdm>=4.27 in /usr/local/lib/python3.10/dist-packages (from transformers) (4.65.0)\n",
      "Requirement already satisfied: fsspec>=2023.5.0 in /usr/local/lib/python3.10/dist-packages (from huggingface-hub<1.0,>=0.16.4->transformers) (2023.6.0)\n",
      "Requirement already satisfied: typing-extensions>=3.7.4.3 in /kernel/lib/python3.10/site-packages (from huggingface-hub<1.0,>=0.16.4->transformers) (4.8.0)\n",
      "Collecting urllib3<1.27,>=1.21.1 (from requests->transformers)\n",
      "  Obtaining dependency information for urllib3<1.27,>=1.21.1 from https://files.pythonhosted.org/packages/b0/53/aa91e163dcfd1e5b82d8a890ecf13314e3e149c05270cc644581f77f17fd/urllib3-1.26.18-py2.py3-none-any.whl.metadata\n",
      "  Downloading urllib3-1.26.18-py2.py3-none-any.whl.metadata (48 kB)\n",
      "\u001b[2K     \u001b[90m━━━━━━━━━━━━━━━━━━━━━━━━━━━━━━━━━━━━━━━\u001b[0m \u001b[32m48.9/48.9 kB\u001b[0m \u001b[31m669.6 kB/s\u001b[0m eta \u001b[36m0:00:00\u001b[0ma \u001b[36m0:00:01\u001b[0m\n",
      "\u001b[?25hRequirement already satisfied: certifi>=2017.4.17 in /kernel/lib/python3.10/site-packages (from requests->transformers) (2023.7.22)\n",
      "Collecting charset-normalizer~=2.0.0 (from requests->transformers)\n",
      "  Downloading charset_normalizer-2.0.12-py3-none-any.whl (39 kB)\n",
      "Requirement already satisfied: idna<4,>=2.5 in /kernel/lib/python3.10/site-packages (from requests->transformers) (3.4)\n",
      "Downloading urllib3-1.26.18-py2.py3-none-any.whl (143 kB)\n",
      "\u001b[2K   \u001b[90m━━━━━━━━━━━━━━━━━━━━━━━━━━━━━━━━━━━━━━━━\u001b[0m \u001b[32m143.8/143.8 kB\u001b[0m \u001b[31m2.0 MB/s\u001b[0m eta \u001b[36m0:00:00\u001b[0m \u001b[36m0:00:01\u001b[0m\n",
      "\u001b[?25hInstalling collected packages: urllib3, charset-normalizer\n",
      "\u001b[33m  WARNING: The script normalizer is installed in '/home/jupyter/.local/bin' which is not on PATH.\n",
      "  Consider adding this directory to PATH or, if you prefer to suppress this warning, use --no-warn-script-location.\u001b[0m\u001b[33m\n",
      "\u001b[0mSuccessfully installed charset-normalizer-2.0.12 urllib3-1.26.18\n",
      "\n",
      "\u001b[1m[\u001b[0m\u001b[34;49mnotice\u001b[0m\u001b[1;39;49m]\u001b[0m\u001b[39;49m A new release of pip is available: \u001b[0m\u001b[31;49m23.2.1\u001b[0m\u001b[39;49m -> \u001b[0m\u001b[32;49m23.3.1\u001b[0m\n",
      "\u001b[1m[\u001b[0m\u001b[34;49mnotice\u001b[0m\u001b[1;39;49m]\u001b[0m\u001b[39;49m To update, run: \u001b[0m\u001b[32;49mpython3 -m pip install --upgrade pip\u001b[0m\n",
      "Defaulting to user installation because normal site-packages is not writeable\n",
      "Requirement already satisfied: sentence_transformers in /home/jupyter/.local/lib/python3.10/site-packages (2.2.2)\n",
      "Requirement already satisfied: transformers<5.0.0,>=4.6.0 in /home/jupyter/.local/lib/python3.10/site-packages (from sentence_transformers) (4.35.2)\n",
      "Requirement already satisfied: tqdm in /usr/local/lib/python3.10/dist-packages (from sentence_transformers) (4.65.0)\n",
      "Requirement already satisfied: torch>=1.6.0 in /usr/local/lib/python3.10/dist-packages (from sentence_transformers) (2.0.1+cu118)\n",
      "Requirement already satisfied: torchvision in /usr/local/lib/python3.10/dist-packages (from sentence_transformers) (0.15.2+cu118)\n",
      "Requirement already satisfied: numpy in /usr/local/lib/python3.10/dist-packages (from sentence_transformers) (1.22.4)\n",
      "Requirement already satisfied: scikit-learn in /usr/local/lib/python3.10/dist-packages (from sentence_transformers) (1.2.2)\n",
      "Requirement already satisfied: scipy in /usr/local/lib/python3.10/dist-packages (from sentence_transformers) (1.10.1)\n",
      "Requirement already satisfied: nltk in /usr/local/lib/python3.10/dist-packages (from sentence_transformers) (3.8.1)\n",
      "Requirement already satisfied: sentencepiece in /home/jupyter/.local/lib/python3.10/site-packages (from sentence_transformers) (0.1.99)\n",
      "Requirement already satisfied: huggingface-hub>=0.4.0 in /home/jupyter/.local/lib/python3.10/site-packages (from sentence_transformers) (0.19.4)\n",
      "Requirement already satisfied: filelock in /usr/local/lib/python3.10/dist-packages (from huggingface-hub>=0.4.0->sentence_transformers) (3.12.2)\n",
      "Requirement already satisfied: fsspec>=2023.5.0 in /usr/local/lib/python3.10/dist-packages (from huggingface-hub>=0.4.0->sentence_transformers) (2023.6.0)\n",
      "Requirement already satisfied: requests in /usr/local/lib/python3.10/dist-packages (from huggingface-hub>=0.4.0->sentence_transformers) (2.27.1)\n",
      "Requirement already satisfied: pyyaml>=5.1 in /usr/local/lib/python3.10/dist-packages (from huggingface-hub>=0.4.0->sentence_transformers) (6.0.1)\n",
      "Requirement already satisfied: typing-extensions>=3.7.4.3 in /kernel/lib/python3.10/site-packages (from huggingface-hub>=0.4.0->sentence_transformers) (4.8.0)\n",
      "Requirement already satisfied: packaging>=20.9 in /kernel/lib/python3.10/site-packages (from huggingface-hub>=0.4.0->sentence_transformers) (23.2)\n",
      "Requirement already satisfied: sympy in /usr/local/lib/python3.10/dist-packages (from torch>=1.6.0->sentence_transformers) (1.11.1)\n",
      "Requirement already satisfied: networkx in /usr/local/lib/python3.10/dist-packages (from torch>=1.6.0->sentence_transformers) (3.1)\n",
      "Requirement already satisfied: jinja2 in /kernel/lib/python3.10/site-packages (from torch>=1.6.0->sentence_transformers) (3.1.2)\n",
      "Requirement already satisfied: triton==2.0.0 in /usr/local/lib/python3.10/dist-packages (from torch>=1.6.0->sentence_transformers) (2.0.0)\n",
      "Requirement already satisfied: cmake in /usr/local/lib/python3.10/dist-packages (from triton==2.0.0->torch>=1.6.0->sentence_transformers) (3.25.2)\n",
      "Requirement already satisfied: lit in /usr/local/lib/python3.10/dist-packages (from triton==2.0.0->torch>=1.6.0->sentence_transformers) (16.0.6)\n",
      "Requirement already satisfied: regex!=2019.12.17 in /usr/local/lib/python3.10/dist-packages (from transformers<5.0.0,>=4.6.0->sentence_transformers) (2022.10.31)\n",
      "Requirement already satisfied: tokenizers<0.19,>=0.14 in /home/jupyter/.local/lib/python3.10/site-packages (from transformers<5.0.0,>=4.6.0->sentence_transformers) (0.15.0)\n",
      "Requirement already satisfied: safetensors>=0.3.1 in /home/jupyter/.local/lib/python3.10/site-packages (from transformers<5.0.0,>=4.6.0->sentence_transformers) (0.4.0)\n",
      "Requirement already satisfied: click in /usr/local/lib/python3.10/dist-packages (from nltk->sentence_transformers) (8.1.6)\n",
      "Requirement already satisfied: joblib in /usr/local/lib/python3.10/dist-packages (from nltk->sentence_transformers) (1.3.1)\n",
      "Requirement already satisfied: threadpoolctl>=2.0.0 in /usr/local/lib/python3.10/dist-packages (from scikit-learn->sentence_transformers) (3.2.0)\n",
      "Requirement already satisfied: pillow!=8.3.*,>=5.3.0 in /kernel/lib/python3.10/site-packages (from torchvision->sentence_transformers) (10.1.0)\n",
      "Requirement already satisfied: MarkupSafe>=2.0 in /kernel/lib/python3.10/site-packages (from jinja2->torch>=1.6.0->sentence_transformers) (2.1.3)\n",
      "Collecting urllib3<1.27,>=1.21.1 (from requests->huggingface-hub>=0.4.0->sentence_transformers)\n",
      "  Obtaining dependency information for urllib3<1.27,>=1.21.1 from https://files.pythonhosted.org/packages/b0/53/aa91e163dcfd1e5b82d8a890ecf13314e3e149c05270cc644581f77f17fd/urllib3-1.26.18-py2.py3-none-any.whl.metadata\n",
      "  Using cached urllib3-1.26.18-py2.py3-none-any.whl.metadata (48 kB)\n",
      "Requirement already satisfied: certifi>=2017.4.17 in /kernel/lib/python3.10/site-packages (from requests->huggingface-hub>=0.4.0->sentence_transformers) (2023.7.22)\n",
      "Collecting charset-normalizer~=2.0.0 (from requests->huggingface-hub>=0.4.0->sentence_transformers)\n",
      "  Using cached charset_normalizer-2.0.12-py3-none-any.whl (39 kB)\n",
      "Requirement already satisfied: idna<4,>=2.5 in /kernel/lib/python3.10/site-packages (from requests->huggingface-hub>=0.4.0->sentence_transformers) (3.4)\n",
      "Requirement already satisfied: mpmath>=0.19 in /usr/local/lib/python3.10/dist-packages (from sympy->torch>=1.6.0->sentence_transformers) (1.3.0)\n",
      "Using cached urllib3-1.26.18-py2.py3-none-any.whl (143 kB)\n",
      "Installing collected packages: urllib3, charset-normalizer\n",
      "\u001b[33m  WARNING: The script normalizer is installed in '/home/jupyter/.local/bin' which is not on PATH.\n",
      "  Consider adding this directory to PATH or, if you prefer to suppress this warning, use --no-warn-script-location.\u001b[0m\u001b[33m\n",
      "\u001b[0mSuccessfully installed charset-normalizer-2.0.12 urllib3-1.26.18\n",
      "\n",
      "\u001b[1m[\u001b[0m\u001b[34;49mnotice\u001b[0m\u001b[1;39;49m]\u001b[0m\u001b[39;49m A new release of pip is available: \u001b[0m\u001b[31;49m23.2.1\u001b[0m\u001b[39;49m -> \u001b[0m\u001b[32;49m23.3.1\u001b[0m\n",
      "\u001b[1m[\u001b[0m\u001b[34;49mnotice\u001b[0m\u001b[1;39;49m]\u001b[0m\u001b[39;49m To update, run: \u001b[0m\u001b[32;49mpython3 -m pip install --upgrade pip\u001b[0m\n",
      "Defaulting to user installation because normal site-packages is not writeable\n",
      "Collecting imblearn\n",
      "  Downloading imblearn-0.0-py2.py3-none-any.whl (1.9 kB)\n",
      "Requirement already satisfied: imbalanced-learn in /usr/local/lib/python3.10/dist-packages (from imblearn) (0.10.1)\n",
      "Requirement already satisfied: numpy>=1.17.3 in /usr/local/lib/python3.10/dist-packages (from imbalanced-learn->imblearn) (1.22.4)\n",
      "Requirement already satisfied: scipy>=1.3.2 in /usr/local/lib/python3.10/dist-packages (from imbalanced-learn->imblearn) (1.10.1)\n",
      "Requirement already satisfied: scikit-learn>=1.0.2 in /usr/local/lib/python3.10/dist-packages (from imbalanced-learn->imblearn) (1.2.2)\n",
      "Requirement already satisfied: joblib>=1.1.1 in /usr/local/lib/python3.10/dist-packages (from imbalanced-learn->imblearn) (1.3.1)\n",
      "Requirement already satisfied: threadpoolctl>=2.0.0 in /usr/local/lib/python3.10/dist-packages (from imbalanced-learn->imblearn) (3.2.0)\n",
      "Installing collected packages: imblearn\n",
      "Successfully installed imblearn-0.0\n",
      "\n",
      "\u001b[1m[\u001b[0m\u001b[34;49mnotice\u001b[0m\u001b[1;39;49m]\u001b[0m\u001b[39;49m A new release of pip is available: \u001b[0m\u001b[31;49m23.2.1\u001b[0m\u001b[39;49m -> \u001b[0m\u001b[32;49m23.3.1\u001b[0m\n",
      "\u001b[1m[\u001b[0m\u001b[34;49mnotice\u001b[0m\u001b[1;39;49m]\u001b[0m\u001b[39;49m To update, run: \u001b[0m\u001b[32;49mpython3 -m pip install --upgrade pip\u001b[0m\n"
     ]
    }
   ],
   "source": [
    "%pip install transformers\n",
    "%pip install sentence_transformers\n",
    "%pip install imblearn\n"
   ]
  },
  {
   "cell_type": "code",
   "execution_count": 1,
   "id": "50419e51-7b87-4107-91f1-8735dfa6bc5a",
   "metadata": {
    "execution": {
     "iopub.execute_input": "2023-11-24T01:22:01.039896Z",
     "iopub.status.busy": "2023-11-24T01:22:01.039028Z",
     "iopub.status.idle": "2023-11-24T01:22:01.070487Z",
     "shell.execute_reply": "2023-11-24T01:22:01.069276Z",
     "shell.execute_reply.started": "2023-11-24T01:22:01.039835Z"
    }
   },
   "outputs": [
    {
     "name": "stdout",
     "output_type": "stream",
     "text": [
      "WW\n"
     ]
    }
   ],
   "source": [
    "print(\"WW\")"
   ]
  },
  {
   "cell_type": "code",
   "execution_count": 2,
   "id": "891c8eb0-1227-456a-aedd-45a41264325e",
   "metadata": {
    "execution": {
     "iopub.execute_input": "2023-11-24T01:22:03.571734Z",
     "iopub.status.busy": "2023-11-24T01:22:03.571059Z",
     "iopub.status.idle": "2023-11-24T01:22:11.304097Z",
     "shell.execute_reply": "2023-11-24T01:22:11.302736Z",
     "shell.execute_reply.started": "2023-11-24T01:22:03.571686Z"
    },
    "tags": []
   },
   "outputs": [
    {
     "name": "stderr",
     "output_type": "stream",
     "text": [
      "2023-11-24 01:22:09.644440: W tensorflow/compiler/tf2tensorrt/utils/py_utils.cc:38] TF-TRT Warning: Could not find TensorRT\n"
     ]
    }
   ],
   "source": [
    "import torch\n",
    "import pandas as pd\n",
    "import torchdata\n",
    "from transformers import AutoTokenizer, AutoModel\n",
    "from sentence_transformers import SentenceTransformer, util\n",
    "from imblearn.over_sampling import RandomOverSampler\n",
    "from imblearn.under_sampling import RandomUnderSampler\n",
    "from sklearn.model_selection import train_test_split\n",
    "from sklearn.metrics import f1_score, classification_report, confusion_matrix\n",
    "from transformers import pipeline"
   ]
  },
  {
   "cell_type": "code",
   "execution_count": 3,
   "id": "acfad868-edcc-4e64-a59b-f45060f0fecb",
   "metadata": {
    "execution": {
     "iopub.execute_input": "2023-11-24T01:22:11.307060Z",
     "iopub.status.busy": "2023-11-24T01:22:11.306149Z",
     "iopub.status.idle": "2023-11-24T01:22:11.372256Z",
     "shell.execute_reply": "2023-11-24T01:22:11.371142Z",
     "shell.execute_reply.started": "2023-11-24T01:22:11.307025Z"
    },
    "tags": []
   },
   "outputs": [
    {
     "name": "stdout",
     "output_type": "stream",
     "text": [
      "2.0.1+cu118\n",
      "True\n"
     ]
    }
   ],
   "source": [
    "print(torch.__version__)\n",
    "print(torch.cuda.is_available())"
   ]
  },
  {
   "cell_type": "code",
   "execution_count": 4,
   "id": "2e4dcc98-1eaf-4627-ba35-334093631c1e",
   "metadata": {
    "execution": {
     "iopub.execute_input": "2023-11-24T01:22:26.133660Z",
     "iopub.status.busy": "2023-11-24T01:22:26.132741Z",
     "iopub.status.idle": "2023-11-24T01:22:26.148386Z",
     "shell.execute_reply": "2023-11-24T01:22:26.147355Z",
     "shell.execute_reply.started": "2023-11-24T01:22:26.133624Z"
    },
    "tags": []
   },
   "outputs": [],
   "source": [
    "def print_simple_data_pipe(date_pipe: torchdata.datapipes.iter.IterDataPipe, f=lambda a: a, n=10) -> None:\n",
    "  print(type(date_pipe))\n",
    "  x = 0\n",
    "  for sample in date_pipe:\n",
    "    print(f(sample))\n",
    "    if x == n:\n",
    "      break\n",
    "    x +=1\n"
   ]
  },
  {
   "cell_type": "code",
   "execution_count": 5,
   "id": "6700914b-ed06-45f8-869b-074c351e4b8c",
   "metadata": {
    "execution": {
     "iopub.execute_input": "2023-11-24T01:22:27.722934Z",
     "iopub.status.busy": "2023-11-24T01:22:27.722118Z",
     "iopub.status.idle": "2023-11-24T01:22:28.006391Z",
     "shell.execute_reply": "2023-11-24T01:22:28.005240Z",
     "shell.execute_reply.started": "2023-11-24T01:22:27.722899Z"
    },
    "tags": []
   },
   "outputs": [
    {
     "data": {
      "text/html": [
       "<div>\n",
       "<style scoped>\n",
       "    .dataframe tbody tr th:only-of-type {\n",
       "        vertical-align: middle;\n",
       "    }\n",
       "\n",
       "    .dataframe tbody tr th {\n",
       "        vertical-align: top;\n",
       "    }\n",
       "\n",
       "    .dataframe thead th {\n",
       "        text-align: right;\n",
       "    }\n",
       "</style>\n",
       "<table border=\"1\" class=\"dataframe\">\n",
       "  <thead>\n",
       "    <tr style=\"text-align: right;\">\n",
       "      <th></th>\n",
       "      <th>Исполнитель</th>\n",
       "      <th>Группа тем</th>\n",
       "      <th>Текст инцидента</th>\n",
       "      <th>Тема</th>\n",
       "    </tr>\n",
       "  </thead>\n",
       "  <tbody>\n",
       "    <tr>\n",
       "      <th>0</th>\n",
       "      <td>Лысьвенский городской округ</td>\n",
       "      <td>Благоустройство</td>\n",
       "      <td>'Добрый день. Сегодня, 20.08.22, моя мать шла ...</td>\n",
       "      <td>★ Ямы во дворах</td>\n",
       "    </tr>\n",
       "    <tr>\n",
       "      <th>1</th>\n",
       "      <td>Министерство социального развития ПК</td>\n",
       "      <td>Социальное обслуживание и защита</td>\n",
       "      <td>'Пермь г, +79194692145. В Перми с ноября 2021 ...</td>\n",
       "      <td>Оказание гос. соц. помощи</td>\n",
       "    </tr>\n",
       "    <tr>\n",
       "      <th>2</th>\n",
       "      <td>Министерство социального развития ПК</td>\n",
       "      <td>Социальное обслуживание и защита</td>\n",
       "      <td>'Добрый день ! Скажите пожалуйста если подовал...</td>\n",
       "      <td>Дети и многодетные семьи</td>\n",
       "    </tr>\n",
       "    <tr>\n",
       "      <th>3</th>\n",
       "      <td>Город Пермь</td>\n",
       "      <td>Общественный транспорт</td>\n",
       "      <td>'Каждая из них не о чем. Люди на остановках хо...</td>\n",
       "      <td>Содержание остановок</td>\n",
       "    </tr>\n",
       "    <tr>\n",
       "      <th>4</th>\n",
       "      <td>Министерство здравоохранения</td>\n",
       "      <td>Здравоохранение/Медицина</td>\n",
       "      <td>'В Березниках у сына привитого откоронавируса ...</td>\n",
       "      <td>Технические проблемы с записью на прием к врачу</td>\n",
       "    </tr>\n",
       "  </tbody>\n",
       "</table>\n",
       "</div>"
      ],
      "text/plain": [
       "                            Исполнитель  ...                                             Тема\n",
       "0           Лысьвенский городской округ  ...                                  ★ Ямы во дворах\n",
       "1  Министерство социального развития ПК  ...                        Оказание гос. соц. помощи\n",
       "2  Министерство социального развития ПК  ...                         Дети и многодетные семьи\n",
       "3                           Город Пермь  ...                             Содержание остановок\n",
       "4          Министерство здравоохранения  ...  Технические проблемы с записью на прием к врачу\n",
       "\n",
       "[5 rows x 4 columns]"
      ]
     },
     "execution_count": 5,
     "metadata": {},
     "output_type": "execute_result"
    }
   ],
   "source": [
    "data = pd.read_csv('./train_dataset_train.csv', sep=\";\")\n",
    "data.head()"
   ]
  },
  {
   "cell_type": "code",
   "execution_count": 6,
   "id": "efe4d6e6-fdd1-45a2-b9c6-188d394e4163",
   "metadata": {
    "execution": {
     "iopub.execute_input": "2023-11-24T01:22:31.917295Z",
     "iopub.status.busy": "2023-11-24T01:22:31.916375Z",
     "iopub.status.idle": "2023-11-24T01:22:31.946876Z",
     "shell.execute_reply": "2023-11-24T01:22:31.945561Z",
     "shell.execute_reply.started": "2023-11-24T01:22:31.917240Z"
    },
    "tags": []
   },
   "outputs": [
    {
     "data": {
      "text/plain": [
       "{'Благоустройство': 0,\n",
       " 'Социальное обслуживание и защита': 1,\n",
       " 'Общественный транспорт': 2,\n",
       " 'Здравоохранение/Медицина': 3,\n",
       " 'Мусор/Свалки/ТКО': 4,\n",
       " 'Образование': 5,\n",
       " 'Дороги': 6,\n",
       " 'ЖКХ': 7,\n",
       " 'Коронавирус': 8,\n",
       " 'Экономика и бизнес': 9,\n",
       " 'Культура': 10,\n",
       " 'Связь и телевидение': 11,\n",
       " 'Газ и топливо': 12,\n",
       " 'Безопасность': 13,\n",
       " 'Спецпроекты': 14,\n",
       " 'Мобилизация': 15,\n",
       " 'МФЦ \"Мои документы\"': 16,\n",
       " 'Физическая культура и спорт': 17,\n",
       " 'Торговля': 18,\n",
       " 'Строительство и архитектура': 19,\n",
       " 'Памятники и объекты культурного наследия': 20,\n",
       " 'Экология': 21,\n",
       " 'Государственная собственность': 22,\n",
       " 'Роспотребнадзор': 23,\n",
       " 'Погребение и похоронное дело': 24,\n",
       " 'Электроснабжение': 25}"
      ]
     },
     "execution_count": 6,
     "metadata": {},
     "output_type": "execute_result"
    }
   ],
   "source": [
    "theme_group_classes = {j: i for i, j in enumerate(data['Группа тем'].unique())}\n",
    "theme_group_classes"
   ]
  },
  {
   "cell_type": "code",
   "execution_count": 29,
   "id": "b58535a3-d69a-4f4f-8abe-23d5f1e453c6",
   "metadata": {
    "execution": {
     "iopub.execute_input": "2023-11-24T02:30:17.355834Z",
     "iopub.status.busy": "2023-11-24T02:30:17.354914Z",
     "iopub.status.idle": "2023-11-24T02:30:17.467054Z",
     "shell.execute_reply": "2023-11-24T02:30:17.465992Z",
     "shell.execute_reply.started": "2023-11-24T02:30:17.355787Z"
    },
    "tags": []
   },
   "outputs": [
    {
     "name": "stdout",
     "output_type": "stream",
     "text": [
      "OS: (1560, 2)\n",
      "Prev: (22567, 4)\n"
     ]
    },
    {
     "data": {
      "text/html": [
       "<div>\n",
       "<style scoped>\n",
       "    .dataframe tbody tr th:only-of-type {\n",
       "        vertical-align: middle;\n",
       "    }\n",
       "\n",
       "    .dataframe tbody tr th {\n",
       "        vertical-align: top;\n",
       "    }\n",
       "\n",
       "    .dataframe thead th {\n",
       "        text-align: right;\n",
       "    }\n",
       "</style>\n",
       "<table border=\"1\" class=\"dataframe\">\n",
       "  <thead>\n",
       "    <tr style=\"text-align: right;\">\n",
       "      <th></th>\n",
       "      <th>Текст инцидента</th>\n",
       "      <th>Группа тем</th>\n",
       "    </tr>\n",
       "  </thead>\n",
       "  <tbody>\n",
       "    <tr>\n",
       "      <th>0</th>\n",
       "      <td>'&gt; ['Обращение от жителей города Лысьва из пос...</td>\n",
       "      <td>Безопасность</td>\n",
       "    </tr>\n",
       "    <tr>\n",
       "      <th>1</th>\n",
       "      <td>'Укрыться в безопасное место, а это где? по ул...</td>\n",
       "      <td>Безопасность</td>\n",
       "    </tr>\n",
       "    <tr>\n",
       "      <th>2</th>\n",
       "      <td>'Куйбышева, нариманова,челюскина</td>\n",
       "      <td>Безопасность</td>\n",
       "    </tr>\n",
       "    <tr>\n",
       "      <th>3</th>\n",
       "      <td>'На Ленина</td>\n",
       "      <td>Безопасность</td>\n",
       "    </tr>\n",
       "    <tr>\n",
       "      <th>4</th>\n",
       "      <td>'В Судозаводе много бродячих собак.</td>\n",
       "      <td>Безопасность</td>\n",
       "    </tr>\n",
       "  </tbody>\n",
       "</table>\n",
       "</div>"
      ],
      "text/plain": [
       "                                     Текст инцидента    Группа тем\n",
       "0  '> ['Обращение от жителей города Лысьва из пос...  Безопасность\n",
       "1  'Укрыться в безопасное место, а это где? по ул...  Безопасность\n",
       "2                   'Куйбышева, нариманова,челюскина  Безопасность\n",
       "3                                         'На Ленина  Безопасность\n",
       "4                'В Судозаводе много бродячих собак.  Безопасность"
      ]
     },
     "execution_count": 29,
     "metadata": {},
     "output_type": "execute_result"
    }
   ],
   "source": [
    "# name_os, system_os = RandomUnderSampler().fit_resample(data.loc[:, ['Текст инцидента']], data['Группа тем'])\n",
    "# data_os = pd.DataFrame({'Текст инцидента': name_os['Текст инцидента'], 'Группа тем': system_os})\n",
    "# print(\"OS:\", data_os.shape)\n",
    "# print(\"Prev:\", data.shape)\n",
    "# data_os.head()\n",
    "\n",
    "\n",
    "# data_os = data.loc[:, ['Текст инцидента', 'Группа тем']]\n",
    "# data_os\n",
    "\n",
    "theme_group_counts = data['Группа тем'].value_counts()\n",
    "b = theme_group_counts[theme_group_counts > theme_group_counts.median()].index.to_list()\n",
    "data_rem_c = data.loc[data['Группа тем'].apply(lambda a: a in b)]\n",
    "# data_rem_c.head()\n",
    "name_os, system_os = RandomUnderSampler().fit_resample(data_rem_c.loc[:, ['Текст инцидента']], data_rem_c['Группа тем'])\n",
    "data_os = pd.DataFrame({'Текст инцидента': name_os['Текст инцидента'], 'Группа тем': system_os})\n",
    "print(\"OS:\", data_os.shape)\n",
    "print(\"Prev:\", data_rem_c.shape)\n",
    "theme_group_classes = {j: i for i, j in enumerate(data_os['Группа тем'].unique())}\n",
    "data_os.head()"
   ]
  },
  {
   "cell_type": "code",
   "execution_count": 167,
   "id": "e187c06b-95a8-4b9e-a20d-890df322aa13",
   "metadata": {
    "execution": {
     "iopub.execute_input": "2023-11-24T07:24:06.572664Z",
     "iopub.status.busy": "2023-11-24T07:24:06.571415Z",
     "iopub.status.idle": "2023-11-24T07:24:06.601090Z",
     "shell.execute_reply": "2023-11-24T07:24:06.599948Z",
     "shell.execute_reply.started": "2023-11-24T07:24:06.572608Z"
    },
    "tags": []
   },
   "outputs": [
    {
     "data": {
      "text/plain": [
       "['Здравоохранение/Медицина',\n",
       " 'Социальное обслуживание и защита',\n",
       " 'Дороги',\n",
       " 'ЖКХ',\n",
       " 'Благоустройство',\n",
       " 'Мусор/Свалки/ТКО',\n",
       " 'Общественный транспорт',\n",
       " 'Коронавирус',\n",
       " 'Образование',\n",
       " 'Безопасность',\n",
       " 'Связь и телевидение',\n",
       " 'Мобилизация',\n",
       " 'Физическая культура и спорт']"
      ]
     },
     "execution_count": 167,
     "metadata": {},
     "output_type": "execute_result"
    }
   ],
   "source": [
    "b"
   ]
  },
  {
   "cell_type": "code",
   "execution_count": 157,
   "id": "bf4bc6f5-5470-4b31-9c63-2f136f0f43a5",
   "metadata": {
    "execution": {
     "iopub.execute_input": "2023-11-24T05:56:34.397965Z",
     "iopub.status.busy": "2023-11-24T05:56:34.396957Z",
     "iopub.status.idle": "2023-11-24T05:56:34.417310Z",
     "shell.execute_reply": "2023-11-24T05:56:34.416091Z",
     "shell.execute_reply.started": "2023-11-24T05:56:34.397914Z"
    },
    "tags": []
   },
   "outputs": [],
   "source": [
    "X_train_os, X_test_os, y_train_os, y_test_os = train_test_split(data_os['Текст инцидента'], data_os['Группа тем'], test_size=0.1)\n",
    "X_train, X_test, y_train, y_test = train_test_split(data_os['Текст инцидента'], data_os['Группа тем'])\n"
   ]
  },
  {
   "cell_type": "code",
   "execution_count": 158,
   "id": "6e9d84f0-e8b3-47ee-9372-16f79b815c20",
   "metadata": {
    "execution": {
     "iopub.execute_input": "2023-11-24T05:56:36.917672Z",
     "iopub.status.busy": "2023-11-24T05:56:36.916565Z",
     "iopub.status.idle": "2023-11-24T05:56:36.958888Z",
     "shell.execute_reply": "2023-11-24T05:56:36.957633Z",
     "shell.execute_reply.started": "2023-11-24T05:56:36.917627Z"
    },
    "tags": []
   },
   "outputs": [],
   "source": [
    "pd.DataFrame({'name': X_train_os, 'system': y_train_os}).to_csv('./os_dataset_train.csv', index=False)\n",
    "pd.DataFrame({'name': X_test_os, 'system': y_test_os}).to_csv('./os_dataset_test.csv', index=False)\n"
   ]
  },
  {
   "cell_type": "code",
   "execution_count": 32,
   "id": "f3cd0581-763d-4df5-a0af-f1252c2a6b6b",
   "metadata": {
    "execution": {
     "iopub.execute_input": "2023-11-24T02:30:31.556694Z",
     "iopub.status.busy": "2023-11-24T02:30:31.555718Z",
     "iopub.status.idle": "2023-11-24T02:30:32.374281Z",
     "shell.execute_reply": "2023-11-24T02:30:32.373076Z",
     "shell.execute_reply.started": "2023-11-24T02:30:31.556647Z"
    },
    "tags": []
   },
   "outputs": [],
   "source": [
    "tokenizer = AutoTokenizer.from_pretrained(\"sentence-transformers/all-MiniLM-L6-v2\")\n",
    "sentence_vectorizer = AutoModel.from_pretrained(\"sentence-transformers/all-MiniLM-L6-v2\")"
   ]
  },
  {
   "cell_type": "code",
   "execution_count": 33,
   "id": "a14bc040-66c6-476e-99a2-1c76c8aa1d7e",
   "metadata": {
    "execution": {
     "iopub.execute_input": "2023-11-24T02:31:08.225483Z",
     "iopub.status.busy": "2023-11-24T02:31:08.224571Z",
     "iopub.status.idle": "2023-11-24T02:31:08.260553Z",
     "shell.execute_reply": "2023-11-24T02:31:08.259326Z",
     "shell.execute_reply.started": "2023-11-24T02:31:08.225449Z"
    },
    "tags": []
   },
   "outputs": [],
   "source": [
    "def mean_pooling(model_output, attention_mask):\n",
    "    token_embeddings = model_output[0] #First element of model_output contains all token embeddings\n",
    "    input_mask_expanded = attention_mask.unsqueeze(-1).expand(token_embeddings.size()).float()\n",
    "    sum_embeddings = torch.sum(token_embeddings * input_mask_expanded, 1)\n",
    "    sum_mask = torch.clamp(input_mask_expanded.sum(1), min=1e-9)\n",
    "    return sum_embeddings / sum_mask\n",
    "\n",
    "def processing(pair):\n",
    "    with torch.no_grad():\n",
    "        e = tokenizer(pair[0], padding=True, truncation=True, max_length=128, return_tensors='pt')\n",
    "        k = sentence_vectorizer(**e)\n",
    "    return (mean_pooling(k, e['attention_mask'])[0], torch.nn.functional.one_hot(torch.tensor([theme_group_classes[pair[1]]]), len(theme_group_classes))[0])"
   ]
  },
  {
   "cell_type": "code",
   "execution_count": 34,
   "id": "9d7b7ec5-a38e-42a9-bc45-e0701612770d",
   "metadata": {
    "execution": {
     "iopub.execute_input": "2023-11-24T02:31:10.438772Z",
     "iopub.status.busy": "2023-11-24T02:31:10.437601Z",
     "iopub.status.idle": "2023-11-24T02:31:10.467968Z",
     "shell.execute_reply": "2023-11-24T02:31:10.466858Z",
     "shell.execute_reply.started": "2023-11-24T02:31:10.438726Z"
    },
    "tags": []
   },
   "outputs": [],
   "source": [
    "train_pairs = torchdata.datapipes.iter.IterableWrapper(['./os_dataset_train.csv'])\n",
    "train_pairs = torchdata.datapipes.iter.FileOpener(train_pairs, mode='r', encoding='utf-8', )\n",
    "train_pairs = train_pairs.parse_csv(skip_lines=1, delimiter=',')\n",
    "train_pairs = train_pairs.shuffle().map(processing)"
   ]
  },
  {
   "cell_type": "code",
   "execution_count": 35,
   "id": "63e4b5bb-203e-443f-b301-f1469cfe0d1b",
   "metadata": {
    "execution": {
     "iopub.execute_input": "2023-11-24T02:31:14.338520Z",
     "iopub.status.busy": "2023-11-24T02:31:14.337507Z",
     "iopub.status.idle": "2023-11-24T02:31:14.823437Z",
     "shell.execute_reply": "2023-11-24T02:31:14.822118Z",
     "shell.execute_reply.started": "2023-11-24T02:31:14.338471Z"
    },
    "tags": []
   },
   "outputs": [
    {
     "name": "stdout",
     "output_type": "stream",
     "text": [
      "<class 'torch.utils.data.dataloader.DataLoader'>\n",
      "(torch.Size([10, 384]), torch.Size([10, 13]))\n",
      "(torch.Size([10, 384]), torch.Size([10, 13]))\n"
     ]
    }
   ],
   "source": [
    "train_dataloader = torch.utils.data.DataLoader(train_pairs, batch_size=10)\n",
    "print_simple_data_pipe(train_dataloader, lambda a: (a[0].shape, a[1].shape), n=1)"
   ]
  },
  {
   "cell_type": "code",
   "execution_count": 36,
   "id": "f91ef68c-4d7a-43ac-b463-56ef780c5f6f",
   "metadata": {
    "execution": {
     "iopub.execute_input": "2023-11-24T02:31:15.854223Z",
     "iopub.status.busy": "2023-11-24T02:31:15.853184Z",
     "iopub.status.idle": "2023-11-24T02:31:15.868556Z",
     "shell.execute_reply": "2023-11-24T02:31:15.867576Z",
     "shell.execute_reply.started": "2023-11-24T02:31:15.854168Z"
    },
    "tags": []
   },
   "outputs": [],
   "source": [
    "class ClassificationModel(torch.nn.Module):\n",
    "    def __init__(self, input_size, output_size) -> None:\n",
    "        super().__init__()\n",
    "        self.input_layer = torch.nn.Linear(in_features=input_size, out_features=input_size//2)\n",
    "        self.input_activation = torch.nn.Tanh()\n",
    "        self.hidden_layer_1 = torch.nn.Linear(in_features=input_size//2, out_features=input_size//4)\n",
    "        self.hidden_layer_1_activation = torch.nn.Tanh()\n",
    "        self.output_layer = torch.nn.Linear(in_features=input_size//4, out_features=output_size)\n",
    "    \n",
    "    def forward(self, x):\n",
    "        y = self.input_layer(x)\n",
    "        y = self.input_activation(y)\n",
    "        y = self.hidden_layer_1(y)\n",
    "        y = self.hidden_layer_1_activation(y)\n",
    "        y = self.output_layer(y)\n",
    "        return y\n",
    "        "
   ]
  },
  {
   "cell_type": "code",
   "execution_count": 37,
   "id": "1c8d137b-f3f8-482c-abc1-e212978f98cc",
   "metadata": {
    "execution": {
     "iopub.execute_input": "2023-11-24T02:31:27.164198Z",
     "iopub.status.busy": "2023-11-24T02:31:27.163249Z",
     "iopub.status.idle": "2023-11-24T02:31:27.194688Z",
     "shell.execute_reply": "2023-11-24T02:31:27.193594Z",
     "shell.execute_reply.started": "2023-11-24T02:31:27.164134Z"
    },
    "tags": []
   },
   "outputs": [],
   "source": [
    "model = ClassificationModel(\n",
    "    input_size=384,\n",
    "    output_size=13\n",
    ").to('cuda')"
   ]
  },
  {
   "cell_type": "code",
   "execution_count": 38,
   "id": "d3cbb088-4ccc-4bd1-9ade-0ad9a862c8b3",
   "metadata": {
    "execution": {
     "iopub.execute_input": "2023-11-24T02:31:28.225139Z",
     "iopub.status.busy": "2023-11-24T02:31:28.224235Z",
     "iopub.status.idle": "2023-11-24T02:31:28.245881Z",
     "shell.execute_reply": "2023-11-24T02:31:28.244788Z",
     "shell.execute_reply.started": "2023-11-24T02:31:28.225090Z"
    },
    "tags": []
   },
   "outputs": [],
   "source": [
    "loss = torch.nn.CrossEntropyLoss()\n",
    "optimizer = torch.optim.Adam(model.parameters(), lr=0.005)\n"
   ]
  },
  {
   "cell_type": "code",
   "execution_count": 39,
   "id": "b06f13fd-f401-45cc-8734-dd4fd9eb8f4a",
   "metadata": {
    "execution": {
     "iopub.execute_input": "2023-11-24T02:31:31.248762Z",
     "iopub.status.busy": "2023-11-24T02:31:31.248051Z",
     "iopub.status.idle": "2023-11-24T02:31:31.310158Z",
     "shell.execute_reply": "2023-11-24T02:31:31.309040Z",
     "shell.execute_reply.started": "2023-11-24T02:31:31.248716Z"
    },
    "tags": []
   },
   "outputs": [],
   "source": [
    "er_list = []"
   ]
  },
  {
   "cell_type": "code",
   "execution_count": 48,
   "id": "deaa4c21-0cfe-4ae1-8662-799a52dd5750",
   "metadata": {
    "execution": {
     "iopub.execute_input": "2023-11-24T02:46:22.985808Z",
     "iopub.status.busy": "2023-11-24T02:46:22.984820Z",
     "iopub.status.idle": "2023-11-24T02:54:58.721587Z",
     "shell.execute_reply": "2023-11-24T02:54:58.720358Z",
     "shell.execute_reply.started": "2023-11-24T02:46:22.985773Z"
    },
    "tags": []
   },
   "outputs": [
    {
     "name": "stdout",
     "output_type": "stream",
     "text": [
      "0\n",
      "Эпоха 1, Значение функции потерь: 0.022701775619134425\n",
      "1\n",
      "Эпоха 2, Значение функции потерь: 0.019798181275837125\n",
      "2\n",
      "Эпоха 3, Значение функции потерь: 0.16076483259239469\n",
      "3\n",
      "Эпоха 4, Значение функции потерь: 0.01849434757605195\n",
      "4\n",
      "Эпоха 5, Значение функции потерь: 0.015323131944751368\n",
      "5\n",
      "Эпоха 6, Значение функции потерь: 0.01622485931511619\n",
      "6\n",
      "Эпоха 7, Значение функции потерь: 0.012152589776087554\n",
      "7\n",
      "Эпоха 8, Значение функции потерь: 0.0131694513016555\n",
      "8\n",
      "Эпоха 9, Значение функции потерь: 0.007390543645306025\n",
      "9\n",
      "Эпоха 10, Значение функции потерь: 0.37016169095732043\n",
      "10\n",
      "Эпоха 11, Значение функции потерь: 0.013543837051838637\n",
      "11\n",
      "Эпоха 12, Значение функции потерь: 0.011297355731949212\n",
      "12\n",
      "Эпоха 13, Значение функции потерь: 0.005608787812525407\n",
      "13\n",
      "Эпоха 14, Значение функции потерь: 0.012665711832232774\n",
      "14\n",
      "Эпоха 15, Значение функции потерь: 0.007488457343424671\n",
      "15\n",
      "Эпоха 16, Значение функции потерь: 0.0054559365846216686\n",
      "16\n",
      "Эпоха 17, Значение функции потерь: 0.0019218039444240276\n",
      "17\n",
      "Эпоха 18, Значение функции потерь: 0.00597544528573053\n",
      "18\n",
      "Эпоха 19, Значение функции потерь: 5.1251826822757724\n",
      "19\n",
      "Эпоха 20, Значение функции потерь: 3.132173788547516\n"
     ]
    }
   ],
   "source": [
    "epochs = 20\n",
    "for epoch in range(epochs):\n",
    "    print(epoch)\n",
    "    t = 0\n",
    "    for x, y in train_dataloader:\n",
    "        t += 1\n",
    "        outputs = model(x.to('cuda'))\n",
    "        # print(1, x.shape)\n",
    "        loss_value = loss(outputs, y.double().to('cuda'))\n",
    "        # print(2)\n",
    "        loss_value.backward(retain_graph=True)\n",
    "        # if t > 100:\n",
    "        #     break\n",
    "        # if len(er_list) > 3:\n",
    "            # if abs(er_list[-1] - er_list[-2]) < 0.001 and er_list[-1] < 10:\n",
    "            #     optimizer = torch.optim.Adam(model_GRU.parameters(), lr=100)\n",
    "            # else:\n",
    "            #     optimizer = torch.optim.Adam(model_GRU.parameters(), lr=0.0001)\n",
    "        optimizer.step()\n",
    "        optimizer.zero_grad()\n",
    "    er_list.append(loss_value.item())\n",
    "    print(f'Эпоха {epoch + 1}, Значение функции потерь: {loss_value.item()}')\n"
   ]
  },
  {
   "cell_type": "code",
   "execution_count": 41,
   "id": "8cab9b0d-057a-4048-9fee-9b257ef774ad",
   "metadata": {
    "execution": {
     "iopub.execute_input": "2023-11-24T02:44:07.494096Z",
     "iopub.status.busy": "2023-11-24T02:44:07.493061Z",
     "iopub.status.idle": "2023-11-24T02:44:07.511555Z",
     "shell.execute_reply": "2023-11-24T02:44:07.510441Z",
     "shell.execute_reply.started": "2023-11-24T02:44:07.494051Z"
    },
    "tags": []
   },
   "outputs": [],
   "source": [
    "test_pairs = torchdata.datapipes.iter.IterableWrapper(['./os_dataset_test.csv'])\n",
    "test_pairs = torchdata.datapipes.iter.FileOpener(test_pairs, mode='r', encoding='utf-8', )\n",
    "test_pairs = test_pairs.parse_csv(skip_lines=1, delimiter=',')\n",
    "test_pairs = test_pairs.map(processing)"
   ]
  },
  {
   "cell_type": "code",
   "execution_count": 42,
   "id": "da89c06d-a13d-4602-b21d-522b98464145",
   "metadata": {
    "execution": {
     "iopub.execute_input": "2023-11-24T02:44:08.522136Z",
     "iopub.status.busy": "2023-11-24T02:44:08.521462Z",
     "iopub.status.idle": "2023-11-24T02:44:08.611501Z",
     "shell.execute_reply": "2023-11-24T02:44:08.610230Z",
     "shell.execute_reply.started": "2023-11-24T02:44:08.522098Z"
    },
    "tags": []
   },
   "outputs": [
    {
     "name": "stdout",
     "output_type": "stream",
     "text": [
      "<class 'torch.utils.data.dataloader.DataLoader'>\n",
      "(torch.Size([1, 384]), torch.Size([1, 13]))\n",
      "(torch.Size([1, 384]), torch.Size([1, 13]))\n"
     ]
    }
   ],
   "source": [
    "test_dataloader = torch.utils.data.DataLoader(test_pairs, batch_size=1)\n",
    "print_simple_data_pipe(test_dataloader, lambda a: (a[0].shape, a[1].shape), n=1)"
   ]
  },
  {
   "cell_type": "code",
   "execution_count": 51,
   "id": "6524b96e-c584-4aa7-9085-d188ba4f6b08",
   "metadata": {
    "execution": {
     "iopub.execute_input": "2023-11-24T03:07:37.415056Z",
     "iopub.status.busy": "2023-11-24T03:07:37.414069Z",
     "iopub.status.idle": "2023-11-24T03:07:46.195432Z",
     "shell.execute_reply": "2023-11-24T03:07:46.194207Z",
     "shell.execute_reply.started": "2023-11-24T03:07:37.414983Z"
    },
    "tags": []
   },
   "outputs": [],
   "source": [
    "t_y = []\n",
    "r_y = []\n",
    "for i, j in test_dataloader:\n",
    "    r = model(i.view(1, -1).to('cuda'))\n",
    "    # print(r)\n",
    "    # break\n",
    "    r_y.append(torch.argmax(r[0]).item())\n",
    "    t_y.append(torch.argmax(j).item())"
   ]
  },
  {
   "cell_type": "code",
   "execution_count": 52,
   "id": "3415483b-d61b-4db4-9057-52574b354580",
   "metadata": {
    "execution": {
     "iopub.execute_input": "2023-11-24T03:07:46.197734Z",
     "iopub.status.busy": "2023-11-24T03:07:46.197029Z",
     "iopub.status.idle": "2023-11-24T03:07:46.221738Z",
     "shell.execute_reply": "2023-11-24T03:07:46.220636Z",
     "shell.execute_reply.started": "2023-11-24T03:07:46.197697Z"
    },
    "tags": []
   },
   "outputs": [
    {
     "name": "stdout",
     "output_type": "stream",
     "text": [
      "              precision    recall  f1-score   support\n",
      "\n",
      "           0       0.00      0.00      0.00        34\n",
      "           1       0.08      0.06      0.07        31\n",
      "           2       0.17      0.62      0.26        29\n",
      "           3       0.00      0.00      0.00        31\n",
      "           4       0.12      0.12      0.12        26\n",
      "           5       0.06      0.05      0.05        22\n",
      "           6       0.46      0.61      0.53        31\n",
      "           7       0.13      0.13      0.13        39\n",
      "           8       0.50      0.03      0.06        33\n",
      "           9       0.26      0.22      0.24        27\n",
      "          10       0.00      0.00      0.00        22\n",
      "          11       0.00      0.00      0.00        31\n",
      "          12       0.10      0.32      0.15        34\n",
      "\n",
      "    accuracy                           0.17       390\n",
      "   macro avg       0.15      0.17      0.12       390\n",
      "weighted avg       0.15      0.17      0.13       390\n",
      "\n"
     ]
    },
    {
     "name": "stderr",
     "output_type": "stream",
     "text": [
      "/usr/local/lib/python3.10/dist-packages/sklearn/metrics/_classification.py:1344: UndefinedMetricWarning: Precision and F-score are ill-defined and being set to 0.0 in labels with no predicted samples. Use `zero_division` parameter to control this behavior.\n",
      "  _warn_prf(average, modifier, msg_start, len(result))\n",
      "/usr/local/lib/python3.10/dist-packages/sklearn/metrics/_classification.py:1344: UndefinedMetricWarning: Precision and F-score are ill-defined and being set to 0.0 in labels with no predicted samples. Use `zero_division` parameter to control this behavior.\n",
      "  _warn_prf(average, modifier, msg_start, len(result))\n",
      "/usr/local/lib/python3.10/dist-packages/sklearn/metrics/_classification.py:1344: UndefinedMetricWarning: Precision and F-score are ill-defined and being set to 0.0 in labels with no predicted samples. Use `zero_division` parameter to control this behavior.\n",
      "  _warn_prf(average, modifier, msg_start, len(result))\n"
     ]
    }
   ],
   "source": [
    "print(classification_report(t_y, r_y))"
   ]
  },
  {
   "cell_type": "code",
   "execution_count": 47,
   "id": "2048e68b-9f9c-4090-97f6-8573bfac097d",
   "metadata": {
    "execution": {
     "iopub.execute_input": "2023-11-24T02:46:06.717769Z",
     "iopub.status.busy": "2023-11-24T02:46:06.716780Z",
     "iopub.status.idle": "2023-11-24T02:46:06.753375Z",
     "shell.execute_reply": "2023-11-24T02:46:06.752127Z",
     "shell.execute_reply.started": "2023-11-24T02:46:06.717736Z"
    }
   },
   "outputs": [],
   "source": [
    "# torch.save(model, './my_model.bin')"
   ]
  },
  {
   "cell_type": "code",
   "execution_count": 55,
   "id": "d1e496f4-b284-4d76-a80d-3373ee9e39cf",
   "metadata": {
    "execution": {
     "iopub.execute_input": "2023-11-24T03:10:45.499436Z",
     "iopub.status.busy": "2023-11-24T03:10:45.498473Z",
     "iopub.status.idle": "2023-11-24T03:10:45.954228Z",
     "shell.execute_reply": "2023-11-24T03:10:45.953081Z",
     "shell.execute_reply.started": "2023-11-24T03:10:45.499399Z"
    },
    "tags": []
   },
   "outputs": [
    {
     "data": {
      "text/plain": [
       "<Axes: >"
      ]
     },
     "execution_count": 55,
     "metadata": {},
     "output_type": "execute_result"
    },
    {
     "data": {
      "image/png": "[encoded data removed]",
      "text/plain": [
       "<Figure size 432x288 with 2 Axes>"
      ]
     },
     "metadata": {
      "needs_background": "light"
     },
     "output_type": "display_data"
    }
   ],
   "source": [
    "from sklearn.metrics import confusion_matrix\n",
    "import seaborn\n",
    "model = torch.load('./my_model.bin')\n",
    "seaborn.heatmap(confusion_matrix(t_y, r_y))"
   ]
  },
  {
   "cell_type": "markdown",
   "id": "96b86a69-cc36-4a12-a09e-22ee5f666619",
   "metadata": {
    "execution": {
     "iopub.execute_input": "2023-11-24T03:10:20.725475Z",
     "iopub.status.busy": "2023-11-24T03:10:20.724546Z",
     "iopub.status.idle": "2023-11-24T03:10:21.137282Z",
     "shell.execute_reply": "2023-11-24T03:10:21.136136Z",
     "shell.execute_reply.started": "2023-11-24T03:10:20.725421Z"
    }
   },
   "source": [
    "# Try Model 2"
   ]
  },
  {
   "cell_type": "code",
   "execution_count": 139,
   "id": "e30674d1-f602-448f-a399-a7aa6139c310",
   "metadata": {
    "execution": {
     "iopub.execute_input": "2023-11-24T05:31:22.263917Z",
     "iopub.status.busy": "2023-11-24T05:31:22.262756Z",
     "iopub.status.idle": "2023-11-24T05:31:22.283499Z",
     "shell.execute_reply": "2023-11-24T05:31:22.282178Z",
     "shell.execute_reply.started": "2023-11-24T05:31:22.263850Z"
    },
    "tags": []
   },
   "outputs": [],
   "source": [
    "class RecGRUExample(torch.nn.Module):\n",
    "    def __init__(\n",
    "        self,\n",
    "        size_of_sample: int,\n",
    "        num_of_samples: int,\n",
    "        output_size_of_input_layer: int,\n",
    "        output_layer_size: int,\n",
    "        alpha: float = 5\n",
    "    ):\n",
    "        \n",
    "        super(RecGRUExample, self).__init__()\n",
    "        self.alpha = alpha\n",
    "        self.input_size_of_input_layer = size_of_sample\n",
    "        self.output_size_of_input_layer = output_size_of_input_layer\n",
    "        self.num_layers_of_input_layer = int(num_of_samples / (alpha * (self.input_size_of_input_layer + self.output_size_of_input_layer)))+1\n",
    "        self.output_layer_size = output_layer_size\n",
    "        self.num_of_samples = num_of_samples\n",
    "\n",
    "        self.input_layer = torch.nn.GRU(\n",
    "            input_size=self.input_size_of_input_layer,\n",
    "            hidden_size=self.output_size_of_input_layer,\n",
    "            num_layers=self.num_layers_of_input_layer,\n",
    "            # bidirectional = True\n",
    "        )\n",
    "        self.output_layer = torch.nn.Conv1d(\n",
    "            self.num_of_samples,\n",
    "            self.output_layer_size,\n",
    "            self.output_size_of_input_layer,\n",
    "        )\n",
    "\n",
    "        self.input_activation = torch.nn.Tanh()\n",
    "        self.h1 = torch.zeros(self.num_layers_of_input_layer, self.num_of_samples, self.output_size_of_input_layer).double().to('cuda')\n",
    "\n",
    "    def forward(self, x):\n",
    "        y, h_r = self.input_layer(x, self.h1)\n",
    "        # print(y.shape)\n",
    "        y = self.input_activation(y)\n",
    "        y = self.output_layer(y)\n",
    "        return y.view(y.shape[0], y.shape[1])\n"
   ]
  },
  {
   "cell_type": "code",
   "execution_count": 159,
   "id": "2d6833f0-785c-4bc3-8b0c-4d9252a1ffd4",
   "metadata": {
    "execution": {
     "iopub.execute_input": "2023-11-24T05:57:21.047743Z",
     "iopub.status.busy": "2023-11-24T05:57:21.046715Z",
     "iopub.status.idle": "2023-11-24T05:57:21.967255Z",
     "shell.execute_reply": "2023-11-24T05:57:21.965978Z",
     "shell.execute_reply.started": "2023-11-24T05:57:21.047694Z"
    },
    "tags": []
   },
   "outputs": [
    {
     "name": "stdout",
     "output_type": "stream",
     "text": [
      "<class 'torch.utils.data.dataloader.DataLoader'>\n",
      "(torch.Size([20, 128, 384]), torch.Size([20, 13]))\n",
      "(torch.Size([20, 128, 384]), torch.Size([20, 13]))\n"
     ]
    }
   ],
   "source": [
    "def mean_pooling(model_output, attention_mask):\n",
    "    token_embeddings = model_output[0] #First element of model_output contains all token embeddings\n",
    "    # input_mask_expanded = attention_mask.unsqueeze(-1).expand(token_embeddings.size()).float()\n",
    "    # print('->', input_mask_expanded.shape, attention_mask.shape, token_embeddings.shape)\n",
    "    # sum_embeddings = torch.sum(token_embeddings * input_mask_expanded, 1)\n",
    "    # sum_mask = torch.clamp(input_mask_expanded.sum(1), min=1e-9)\n",
    "    k = torch.cat([token_embeddings, torch.zeros(token_embeddings.shape[0], 128 - token_embeddings.shape[1], token_embeddings.shape[2])], 1)\n",
    "    # print('->', k.shape)\n",
    "    return k\n",
    "\n",
    "def processing(pair):\n",
    "    with torch.no_grad():\n",
    "        e = tokenizer(pair[0], padding=True, truncation=True, max_length=128, return_tensors='pt')\n",
    "        k = sentence_vectorizer(**e)\n",
    "    return (mean_pooling(k, e['attention_mask'])[0], torch.nn.functional.one_hot(torch.tensor([theme_group_classes[pair[1]]]), len(theme_group_classes))[0])\n",
    "train_pairs = torchdata.datapipes.iter.IterableWrapper(['./os_dataset_train.csv'])\n",
    "train_pairs = torchdata.datapipes.iter.FileOpener(train_pairs, mode='r', encoding='utf-8', )\n",
    "train_pairs = train_pairs.parse_csv(skip_lines=1, delimiter=',')\n",
    "train_pairs = train_pairs.shuffle().map(processing)\n",
    "train_dataloader = torch.utils.data.DataLoader(train_pairs, batch_size=20)\n",
    "print_simple_data_pipe(train_dataloader, lambda a: (a[0].shape, a[1].shape), n=1)"
   ]
  },
  {
   "cell_type": "code",
   "execution_count": 160,
   "id": "5588a7ef-025a-4f05-8e7f-6e00b1028836",
   "metadata": {
    "execution": {
     "iopub.execute_input": "2023-11-24T05:57:22.937811Z",
     "iopub.status.busy": "2023-11-24T05:57:22.936846Z",
     "iopub.status.idle": "2023-11-24T05:57:22.969541Z",
     "shell.execute_reply": "2023-11-24T05:57:22.968430Z",
     "shell.execute_reply.started": "2023-11-24T05:57:22.937759Z"
    },
    "tags": []
   },
   "outputs": [],
   "source": [
    "model_GRU = RecGRUExample(\n",
    "    size_of_sample=384,\n",
    "    num_of_samples=128,\n",
    "    output_size_of_input_layer=50,\n",
    "    output_layer_size=13,\n",
    "    alpha=0.1\n",
    ").double().to('cuda')\n"
   ]
  },
  {
   "cell_type": "code",
   "execution_count": 161,
   "id": "28255d20-39e1-48f5-8128-8f2a4ed944b7",
   "metadata": {
    "execution": {
     "iopub.execute_input": "2023-11-24T05:57:24.302381Z",
     "iopub.status.busy": "2023-11-24T05:57:24.301228Z",
     "iopub.status.idle": "2023-11-24T05:57:24.317965Z",
     "shell.execute_reply": "2023-11-24T05:57:24.316937Z",
     "shell.execute_reply.started": "2023-11-24T05:57:24.302327Z"
    },
    "tags": []
   },
   "outputs": [
    {
     "data": {
      "text/plain": [
       "3"
      ]
     },
     "execution_count": 161,
     "metadata": {},
     "output_type": "execute_result"
    }
   ],
   "source": [
    "model_GRU.num_layers_of_input_layer"
   ]
  },
  {
   "cell_type": "code",
   "execution_count": 162,
   "id": "c571a935-655c-4c1a-a4bf-652e4c813b9e",
   "metadata": {
    "execution": {
     "iopub.execute_input": "2023-11-24T05:57:27.281247Z",
     "iopub.status.busy": "2023-11-24T05:57:27.280537Z",
     "iopub.status.idle": "2023-11-24T05:57:27.313779Z",
     "shell.execute_reply": "2023-11-24T05:57:27.312697Z",
     "shell.execute_reply.started": "2023-11-24T05:57:27.281204Z"
    },
    "tags": []
   },
   "outputs": [],
   "source": [
    "loss = torch.nn.CrossEntropyLoss()\n",
    "optimizer = torch.optim.Adam(model_GRU.parameters(), lr=0.005)\n",
    "er_list_gru = []"
   ]
  },
  {
   "cell_type": "code",
   "execution_count": 163,
   "id": "3546174d-359d-4e2b-94b5-d5e1f89d4590",
   "metadata": {
    "execution": {
     "iopub.execute_input": "2023-11-24T05:57:28.545288Z",
     "iopub.status.busy": "2023-11-24T05:57:28.544408Z",
     "iopub.status.idle": "2023-11-24T06:07:49.410432Z",
     "shell.execute_reply": "2023-11-24T06:07:49.409172Z",
     "shell.execute_reply.started": "2023-11-24T05:57:28.545254Z"
    },
    "tags": []
   },
   "outputs": [
    {
     "name": "stdout",
     "output_type": "stream",
     "text": [
      "suc\n",
      "Эпоха 1, Значение функции потерь: 2.540894632936227\n",
      "suc\n",
      "Эпоха 2, Значение функции потерь: 2.70874450415557\n",
      "suc\n",
      "Эпоха 3, Значение функции потерь: 2.2583617531305884\n",
      "suc\n",
      "Эпоха 4, Значение функции потерь: 2.179774550459036\n",
      "suc\n",
      "Эпоха 5, Значение функции потерь: 1.6024841469345894\n",
      "suc\n",
      "Эпоха 6, Значение функции потерь: 0.9655391093682145\n",
      "suc\n",
      "Эпоха 7, Значение функции потерь: 0.7148856740384374\n",
      "suc\n",
      "Эпоха 8, Значение функции потерь: 0.26186403911725503\n",
      "suc\n",
      "Эпоха 9, Значение функции потерь: 0.026369152346910445\n",
      "suc\n",
      "Эпоха 10, Значение функции потерь: 0.38863185280464463\n",
      "suc\n",
      "Эпоха 11, Значение функции потерь: 0.6579126685097848\n",
      "suc\n",
      "Эпоха 12, Значение функции потерь: 0.17527231071240182\n",
      "suc\n",
      "Эпоха 13, Значение функции потерь: 0.06261208503641771\n",
      "suc\n",
      "Эпоха 14, Значение функции потерь: 0.00424386055136043\n",
      "suc\n",
      "Эпоха 15, Значение функции потерь: 1.1211695619186919\n",
      "suc\n",
      "Эпоха 16, Значение функции потерь: 0.08410756555797129\n",
      "suc\n",
      "Эпоха 17, Значение функции потерь: 0.004622175489550602\n",
      "suc\n",
      "Эпоха 18, Значение функции потерь: 0.013930593212418872\n",
      "suc\n",
      "Эпоха 19, Значение функции потерь: 0.0007714685106628063\n",
      "suc\n",
      "Эпоха 20, Значение функции потерь: 0.00012028481229606411\n"
     ]
    }
   ],
   "source": [
    "epochs = 20\n",
    "for epoch in range(epochs):\n",
    "    t = 1\n",
    "    for x_b, y_b in train_dataloader:\n",
    "        outputs = model_GRU(x_b.double().to('cuda'))\n",
    "        loss_value = loss(outputs, y_b.double().to('cuda'))\n",
    "        loss_value.backward(retain_graph=True)\n",
    "        # if len(er_list) > 3:\n",
    "            # if abs(er_list[-1] - er_list[-2]) < 0.001 and er_list[-1] < 10:\n",
    "            #     optimizer = torch.optim.Adam(model_GRU.parameters(), lr=100)\n",
    "            # else:\n",
    "            #     optimizer = torch.optim.Adam(model_GRU.parameters(), lr=0.0001)\n",
    "        optimizer.step()\n",
    "        optimizer.zero_grad()\n",
    "        if t:\n",
    "            t = 0\n",
    "            print('suc')\n",
    "    er_list_gru.append(loss_value.item())\n",
    "    print(f'Эпоха {epoch + 1}, Значение функции потерь: {loss_value.item()}')\n"
   ]
  },
  {
   "cell_type": "code",
   "execution_count": 164,
   "id": "47623980-5eaa-4e33-b647-57ab274129e5",
   "metadata": {
    "execution": {
     "iopub.execute_input": "2023-11-24T06:07:49.413247Z",
     "iopub.status.busy": "2023-11-24T06:07:49.412384Z",
     "iopub.status.idle": "2023-11-24T06:07:53.228939Z",
     "shell.execute_reply": "2023-11-24T06:07:53.227849Z",
     "shell.execute_reply.started": "2023-11-24T06:07:49.413212Z"
    },
    "tags": []
   },
   "outputs": [
    {
     "name": "stdout",
     "output_type": "stream",
     "text": [
      "<class 'torch.utils.data.dataloader.DataLoader'>\n",
      "(torch.Size([1, 128, 384]), torch.Size([1, 13]))\n",
      "(torch.Size([1, 128, 384]), torch.Size([1, 13]))\n"
     ]
    }
   ],
   "source": [
    "test_pairs = torchdata.datapipes.iter.IterableWrapper(['./os_dataset_test.csv'])\n",
    "test_pairs = torchdata.datapipes.iter.FileOpener(test_pairs, mode='r', encoding='utf-8', )\n",
    "test_pairs = test_pairs.parse_csv(skip_lines=1, delimiter=',')\n",
    "test_pairs = test_pairs.map(processing)\n",
    "test_dataloader = torch.utils.data.DataLoader(test_pairs, batch_size=1)\n",
    "print_simple_data_pipe(test_dataloader, lambda a: (a[0].shape, a[1].shape), n=1)\n",
    "t_y = []\n",
    "r_y = []\n",
    "for i, j in test_dataloader:\n",
    "    r = model_GRU(i.double().to('cuda'))\n",
    "    # print(r)\n",
    "    # break\n",
    "    r_y.append(torch.argmax(r[0]).item())\n",
    "    t_y.append(torch.argmax(j).item())"
   ]
  },
  {
   "cell_type": "code",
   "execution_count": 165,
   "id": "f649ce4e-254a-47e2-81d3-e0d4378b6c5e",
   "metadata": {
    "execution": {
     "iopub.execute_input": "2023-11-24T06:08:18.808718Z",
     "iopub.status.busy": "2023-11-24T06:08:18.807542Z",
     "iopub.status.idle": "2023-11-24T06:08:18.834101Z",
     "shell.execute_reply": "2023-11-24T06:08:18.832932Z",
     "shell.execute_reply.started": "2023-11-24T06:08:18.808676Z"
    },
    "tags": []
   },
   "outputs": [
    {
     "name": "stdout",
     "output_type": "stream",
     "text": [
      "              precision    recall  f1-score   support\n",
      "\n",
      "           0       0.12      0.25      0.17         8\n",
      "           1       0.00      0.00      0.00        13\n",
      "           2       0.13      0.20      0.16        10\n",
      "           3       0.10      0.11      0.11         9\n",
      "           4       0.40      0.27      0.32        15\n",
      "           5       0.60      0.20      0.30        15\n",
      "           6       0.45      0.31      0.37        16\n",
      "           7       0.07      0.08      0.08        12\n",
      "           8       0.00      0.00      0.00        14\n",
      "           9       0.33      0.60      0.43         5\n",
      "          10       0.18      0.27      0.22        15\n",
      "          11       0.38      0.25      0.30        12\n",
      "          12       0.17      0.17      0.17        12\n",
      "\n",
      "    accuracy                           0.19       156\n",
      "   macro avg       0.23      0.21      0.20       156\n",
      "weighted avg       0.24      0.19      0.20       156\n",
      "\n"
     ]
    }
   ],
   "source": [
    "print(classification_report(t_y, r_y))"
   ]
  },
  {
   "cell_type": "code",
   "execution_count": 166,
   "id": "05cb3523-d75b-41c4-af29-c49daec594f5",
   "metadata": {
    "execution": {
     "iopub.execute_input": "2023-11-24T06:08:22.038455Z",
     "iopub.status.busy": "2023-11-24T06:08:22.037467Z",
     "iopub.status.idle": "2023-11-24T06:08:22.430364Z",
     "shell.execute_reply": "2023-11-24T06:08:22.429145Z",
     "shell.execute_reply.started": "2023-11-24T06:08:22.038399Z"
    },
    "tags": []
   },
   "outputs": [
    {
     "data": {
      "text/plain": [
       "<Axes: >"
      ]
     },
     "execution_count": 166,
     "metadata": {},
     "output_type": "execute_result"
    },
    {
     "data": {
      "image/png": "[encoded data removed]",
      "text/plain": [
       "<Figure size 432x288 with 2 Axes>"
      ]
     },
     "metadata": {
      "needs_background": "light"
     },
     "output_type": "display_data"
    }
   ],
   "source": [
    "from sklearn.metrics import confusion_matrix\n",
    "import seaborn\n",
    "model = torch.load('./my_model.bin')\n",
    "seaborn.heatmap(confusion_matrix(t_y, r_y))"
   ]
  },
  {
   "cell_type": "code",
   "execution_count": null,
   "id": "32a12c88-9871-4e30-841b-3534b32ed708",
   "metadata": {},
   "outputs": [],
   "source": []
  }
 ],
 "metadata": {
  "kernelspec": {
   "display_name": "DataSphere Kernel",
   "language": "python",
   "name": "python3"
  },
  "language_info": {
   "codemirror_mode": {
    "name": "ipython",
    "version": 3
   },
   "file_extension": ".py",
   "mimetype": "text/x-python",
   "name": "python",
   "nbconvert_exporter": "python",
   "pygments_lexer": "ipython3",
   "version": "3.7.7"
  }
 },
 "nbformat": 4,
 "nbformat_minor": 5
}
