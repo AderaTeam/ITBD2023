{
 "cells": [
  {
   "cell_type": "code",
   "execution_count": 2,
   "metadata": {},
   "outputs": [
    {
     "name": "stderr",
     "output_type": "stream",
     "text": [
      "d:\\InternationalDB\\IntDB\\lib\\site-packages\\tqdm\\auto.py:21: TqdmWarning: IProgress not found. Please update jupyter and ipywidgets. See https://ipywidgets.readthedocs.io/en/stable/user_install.html\n",
      "  from .autonotebook import tqdm as notebook_tqdm\n"
     ]
    }
   ],
   "source": [
    "import spacy\n",
    "from spacy.tokens import DocBin\n",
    "from spacy.cli.train import train\n",
    "from spacy.util import minibatch, compounding\n",
    "from spacy.training.example import Example\n",
    "from json import load\n",
    "from string import punctuation\n",
    "from random import shuffle\n"
   ]
  },
  {
   "cell_type": "code",
   "execution_count": 3,
   "metadata": {},
   "outputs": [],
   "source": [
    "training_data = [\n",
    "  (\"Запах газа в доме от АГВ\", {'Запах газа': 'PROBLEM'},),\n",
    "  (\"Запах газа из закрытой квартиры; Запах газа в доме\", {'Запах газа': 'PROBLEM'},),\n",
    "  (\"Течь в системе отопления\", {'Течь': 'PROBLEM'},),\n",
    "  (\"Задымление\", {'Задымление': 'PROBLEM'},),\n",
    "  (\n",
    "      \"Пожалуйста, восстановите асфальт у второго подъезда. Адрес : улица Крюкова, д.15\", \n",
    "      {\n",
    "          'восстановите асфальт': 'PROBLEM', \n",
    "          'улица Крюкова, д.15': 'PLACE'\n",
    "      },\n",
    "  ),\n",
    "  (\"Парковка машин на газоне, прошу поставить ограждения\", {'Парковка машин': 'PROBLEM'},),\n",
    "  (\n",
    "      \"Незаконная вывеска/рекламная конструкция по адресу: Санкт-Петербург, Митрофаньевское ш., д. 36 (установка 1 - сверху).\", \n",
    "      {\n",
    "          'Незаконная вывеска/рекламная конструкция': 'PROBLEM', \n",
    "          'Санкт-Петербург, Митрофаньевское ш., д. 36 (установка 1 - сверху)': 'PLACE'\n",
    "      },\n",
    "  ),\n",
    "  (\n",
    "      \"Проблема находится о адресу: спб, Пушкин, ул Ленинградская 67, парадная 4. Проблемы с фиксатором-магнитом, не до конца закрывается дверь, образуется конденсат на обратной стороне. Прошу устранить. Спасибо\", \n",
    "      {\n",
    "          'Проблемы с фиксатором-магнитом': 'PROBLEM',\n",
    "          'спб, Пушкин, ул Ленинградская 67, парадная 4': 'PLACE'\n",
    "      },\n",
    "  ),\n",
    "  (\n",
    "      \"Очистить дорожный знак от самоклеящейся рекламы, не оставляя следов бумаги и клея.\", \n",
    "      {\n",
    "          'Очистить дорожный знак от самоклеящейся рекламы': 'PROBLEM'\n",
    "      },\n",
    "  ),\n",
    "  (\n",
    "      \"Добрый день! Прошу устранить надпись на углу дома. Заранее благодарен.\", \n",
    "      {\n",
    "          'надпись на углу дома': 'PROBLEM'\n",
    "      },\n",
    "  ),\n",
    "  (\n",
    "      \"Неудовлетворительная уборка в параднойгрязь, лужи на первом этаже.\", \n",
    "      {\n",
    "          'Неудовлетворительная уборка': 'PROBLEM', \n",
    "          'лужи': 'PROBLEM'\n",
    "      },\n",
    "  ),\n",
    "  (\"Требуется произвести работы по качественной очистке остановочного павильона от несанкционированного рекламного объявления, не оставляя следов. Фотофиксация прилагается.\", {'несанкционированного рекламного объявления': 'PROBLEM'},),\n",
    "  (\"плохо убранный снег с краю проезжей части\", {'плохо убранный снег': 'PROBLEM'},),\n",
    "  (\n",
    "      \"Первый этаж, чёрная лестница входная дверь не удовлетворительном состоянии , первая парадная\", \n",
    "      {\n",
    "          'входная дверь не удовлетворительном состоянии': 'PROBLEM',\n",
    "          'Первый этаж, чёрная лестница входная дверь': 'PLACE',\n",
    "          'первая парадная': 'PLACE'\n",
    "      },\n",
    "  ),\n",
    "  (\n",
    "      \"Необходимо снять с дерева мусор (рваная одежда, тряпки), сброшенный кем-то из жильцов с балконов: на дереве перед входом в парадную № 8 жилого дома по адресу пр. Науки 44 в Калининском районе Санкт-Петербурга.\", \n",
    "      {\n",
    "          'снять с дерева мусор': 'PROBLEM',\n",
    "          'на дереве перед входом в парадную № 8 жилого дома по адресу пр. Науки 44 в Калининском районе Санкт-Петербурга': 'PLACE'\n",
    "      },\n",
    "  ),\n",
    "  # (\"Авария\", {'Авария': 'PROBLEM'},),\n",
    "  # (\"Авария\", {'Авария': 'PROBLEM'},),\n",
    "  # (\"Авария\", {'Авария': 'PROBLEM'},),\n",
    "  # (\"Авария\", {'Авария': 'PROBLEM'},),\n",
    "  (\"Задымление; Пожар\", {'Задымление': 'PROBLEM', 'Пожар': 'PROBLEM'},),\n",
    "  (\"Повреждение внутренней двери\", {'Повреждение внутренней двери': 'PROBLEM'},),\n",
    "  (\"Отклонение ГВС ниже нормы ночью (мониторинг)\", {'Отклонение ГВС': 'PROBLEM'},),\n",
    "  (\"Гул (шум) на объекте АО МОСГАЗ\", {'Гул (шум)': 'PROBLEM'},),\n",
    "  (\"Завышен колодец м/г\", {'Завышен': 'PROBLEM'},),\n",
    "  (\"Поломка освещения перед подъездом\", {'Поломка освещения': 'PROBLEM'},),\n",
    "  (\"Неисправность пожарной сигнализации\", {'Неисправность пожарной сигнализации': 'PROBLEM'},),\n",
    "  (\"Загазованность фланцев № б/н\", {'Загазованность': 'PROBLEM'},),\n",
    "  (\"Запах газа в кухне; Нет газа\", {'Нет газа': 'PROBLEM', 'Запах газа': 'PROBLEM'},),\n",
    "  (\"Неработоспособность подъемной платформы для инвалидов\", {'Неработоспособность подъемной платформы': 'PROBLEM'},),\n",
    "  (\"Утечка воды из колодца, поступает на проезжую часть\", {'Утечка воды из колодца': 'PROBLEM'},),\n",
    "  (\"Отсутствие освещения в лифте\", {'Отсутствие освещения': 'PROBLEM'},),\n",
    "  (\n",
    "      \"Необходимо проверить законность установки вывески на фасаде МКД по адресу проспект Непокорённых 74. В случае, если вывеска установлена незаконно её необходимо демонтировать\", \n",
    "      {\n",
    "          'законность установки вывески': 'PROBLEM',\n",
    "          'проспект Непокорённых 74': 'PLACE'\n",
    "      },\n",
    "  ),\n",
    "  (\"Уборка не производится, на лестнице очень грязно. На всех этажах, вплоть до 5-го. Звонок в ЖКС#2 5.04.2021 не дал результатов.\", {'Уборка не производится': 'PROBLEM', 'Звонок в ЖКС#2 5.04.2021 не дал результатов': 'PROBLEM'},),\n",
    "  (\n",
    "      \"Отсутствует освещение на лестничной площадке между 6 и 7 этажами в парадной № 2\", \n",
    "      {\n",
    "          'Отсутствует освещение': 'PROBLEM',\n",
    "          'между 6 и 7 этажами в парадной № 2': 'PLACE'\n",
    "      },\n",
    "  ),\n",
    "  (\"Зачем было делать благоустройство, если никто не убирает мусор??? И так ежедневно!\", {'никто не убирает мусор': 'PROBLEM'},),\n",
    "  (\n",
    "      \"Уборка не производится, на лестнице очень грязно. На всех этажах, вплоть до 5-го.\", \n",
    "      {\n",
    "          'Уборка не производится': 'PROBLEM', 'на лестнице очень грязно': 'PROBLEM',\n",
    "          'На всех этажах, вплоть до 5-го': 'PLACE'\n",
    "      },\n",
    "  ),\n",
    "  (\"снег на дороге\", {'снег на дороге': 'PROBLEM'},),\n",
    "  (\n",
    "      \"Санкт-Петербург, ул. Ярослава Гашека, д. 30/5, подъезд 5. Несанкционированное размещение объявлений на двери. Порча общедомового имущества МКД. Все объявления должны размещатся на информационных стендах.\", \n",
    "      {\n",
    "          'Несанкционированное размещение объявлений': 'PROBLEM', \n",
    "          'Санкт-Петербург, ул. Ярослава Гашека, д. 30/5, подъезд 5': 'PLACE'\n",
    "      },\n",
    "  ),\n",
    "  (\"Улица Халтурина, рядом с пешеходным переходом, напротив дома 1 большая яма.\", {'большая яма': 'PROBLEM'},),\n",
    "  (\"На детской площадке сломана дуга, удерживающая веревочную сетку, по которой дети залезают на горку. Во время использования веревочной сетки вся конструкция сильно качается и в любой момент может упасть.\", {'конструкция сильно качается': 'PROBLEM', 'сломана дуга': 'PROBLEM'},),\n",
    "  (\"Придорожная 21, 17 парадная, 6 этаж. Требую привести кабель-канал и защитные крышки в надлежащее состояние.\", {'привести кабель-канал и защитные крышки в надлежащее состояние': 'PROBLEM', 'Придорожная 21, 17 парадная, 6 этаж': 'PLACE'},),\n",
    "  (\"Самовольная установка конструкции, препятствующая парковке автотранспорта на дворовой территории у фасада со стороны Щербакова пер. на оформленном в общедолевую собственность земельном участке. Данный факт расцениваю как самозахват территории и прошу демонтировать конструкцию, обеспечив исполнение управляющей организацией дома письма-предписания Администрации Центрального района (по ряду «рамок» (некоторых) в данном дворе дома). Из истории: с некоторых рамок после моих обращений сняты привычные замки, однако сами конструкции продолжают существовать и замки на них скорее всего появятся в ближайшее время. На уровне «собственников» и управляющей организации данный вопрос не решается!\", {'Самовольная установка конструкции': 'PROBLEM'},),\n",
    "  (\"Реклама на заборе.\", {'Реклама на заборе': 'PROBLEM'},),\n",
    "  (\"Пожалуйста, удалите бетонный обрубок с ржавой арматурой с газона перед домом. Адрес : улица Тухачевского, д. 5 к.1\", {'удалите бетонный обрубок с ржавой арматурой': 'PROBLEM', 'улица Тухачевского, д. 5 к.1': 'PLACE'},),\n",
    "]"
   ]
  },
  {
   "cell_type": "code",
   "execution_count": 4,
   "metadata": {},
   "outputs": [],
   "source": [
    "def data_to_enum(pair):\n",
    "    p = []\n",
    "    for i in pair[1]:\n",
    "        start = pair[0].find(i)\n",
    "        end = start + len(i)\n",
    "        tag = pair[1][i]\n",
    "        p.append((start, end, tag))\n",
    "    return (pair[0], p)\n",
    "        "
   ]
  },
  {
   "cell_type": "code",
   "execution_count": 5,
   "metadata": {},
   "outputs": [
    {
     "data": {
      "text/plain": [
       "('Запах газа в доме от АГВ', [(0, 10, 'PROBLEM')])"
      ]
     },
     "execution_count": 5,
     "metadata": {},
     "output_type": "execute_result"
    }
   ],
   "source": [
    "data_to_enum(training_data[0])"
   ]
  },
  {
   "cell_type": "code",
   "execution_count": 6,
   "metadata": {},
   "outputs": [],
   "source": [
    "def get_data_tag(td, tag):\n",
    "    return [(i, {k: j[k] for k in j if j[k] == tag}) for i, j in td]"
   ]
  },
  {
   "cell_type": "code",
   "execution_count": 7,
   "metadata": {},
   "outputs": [],
   "source": [
    "data_prob = get_data_tag(training_data, 'PROBLEM')\n",
    "data_place = get_data_tag(training_data, 'PLACE')"
   ]
  },
  {
   "cell_type": "code",
   "execution_count": 8,
   "metadata": {},
   "outputs": [],
   "source": [
    "data_prob_processed = [data_to_enum(i) for i in data_prob]\n",
    "data_place_processed = [data_to_enum(i) for i in data_place]"
   ]
  },
  {
   "cell_type": "code",
   "execution_count": 9,
   "metadata": {},
   "outputs": [],
   "source": [
    "nlp_place = spacy.load(\"ru_core_news_sm\")\n",
    "ner_place = nlp_place.get_pipe(\"ner\")\n",
    "nlp_problem = spacy.load(\"ru_core_news_sm\")\n",
    "ner_problem = nlp_problem.get_pipe(\"ner\")"
   ]
  },
  {
   "cell_type": "code",
   "execution_count": 17,
   "metadata": {},
   "outputs": [
    {
     "data": {
      "text/plain": [
       "{'tok2vec': 0.0, 'morphologizer': 0.0, 'parser': 0.0, 'ner': 3.860928716693277}"
      ]
     },
     "execution_count": 17,
     "metadata": {},
     "output_type": "execute_result"
    }
   ],
   "source": [
    "for _, annotations in data_prob_processed:\n",
    "  for ent in annotations:\n",
    "    ner_problem.add_label(ent[2])\n",
    "\n",
    "pipe_exceptions = [\"ner\", \"trf_wordpiecer\", \"trf_tok2vec\"]\n",
    "\n",
    "unaffected_pipes = [\n",
    "    pipe for pipe in nlp_problem.pipe_names if pipe not in pipe_exceptions\n",
    "]\n",
    "\n",
    "shuffle(data_prob_processed)\n",
    "\n",
    "losses = {}\n",
    "for batch in spacy.util.minibatch(data_prob_processed, size=compounding(10.0, 200.0, 1.001)):\n",
    "    for text, annotations in batch:\n",
    "        doc = nlp_problem.make_doc(text)\n",
    "        example = Example.from_dict(doc, {'entities': annotations})\n",
    "        nlp_problem.update([example], losses=losses, drop=0.2)\n",
    "losses"
   ]
  },
  {
   "cell_type": "code",
   "execution_count": 40,
   "metadata": {},
   "outputs": [
    {
     "data": {
      "text/plain": [
       "{'tok2vec': 0.0, 'morphologizer': 0.0, 'parser': 0.0, 'ner': 4.016418689807719}"
      ]
     },
     "execution_count": 40,
     "metadata": {},
     "output_type": "execute_result"
    }
   ],
   "source": [
    "for _, annotations in data_place_processed:\n",
    "  for ent in annotations:\n",
    "    ner_place.add_label(ent[2])\n",
    "\n",
    "pipe_exceptions = [\"ner\", \"trf_wordpiecer\", \"trf_tok2vec\"]\n",
    "\n",
    "unaffected_pipes = [\n",
    "    pipe for pipe in nlp_place.pipe_names if pipe not in pipe_exceptions\n",
    "]\n",
    "\n",
    "shuffle(data_prob_processed)\n",
    "\n",
    "losses = {}\n",
    "for batch in spacy.util.minibatch(data_place_processed, size=compounding(10.0, 200.0, 1.001)):\n",
    "    for text, annotations in batch:\n",
    "        doc = nlp_place.make_doc(text)\n",
    "        example = Example.from_dict(doc, {'entities': annotations})\n",
    "        nlp_place.update([example], losses=losses, drop=0.2)\n",
    "losses"
   ]
  },
  {
   "cell_type": "code",
   "execution_count": 52,
   "metadata": {},
   "outputs": [
    {
     "data": {
      "text/plain": [
       "{'tok2vec': 0.0, 'morphologizer': 0.0, 'parser': 0.0, 'ner': 4.016418689807719}"
      ]
     },
     "execution_count": 52,
     "metadata": {},
     "output_type": "execute_result"
    }
   ],
   "source": [
    "losses"
   ]
  },
  {
   "cell_type": "code",
   "execution_count": 41,
   "metadata": {},
   "outputs": [
    {
     "data": {
      "text/plain": [
       "((Придорожная 21, 17 парадная, 6 этаж,),\n",
       " (привести кабель-канал и защитные крышки в надлежащее состояние,))"
      ]
     },
     "execution_count": 41,
     "metadata": {},
     "output_type": "execute_result"
    }
   ],
   "source": [
    "# nlp2 = spacy.load('config.cfg')\n",
    "(nlp_place('Придорожная 21, 17 парадная, 6 этаж. Требую привести кабель-канал и защитные крышки в надлежащее состояние.').ents,\n",
    "nlp_problem('Придорожная 21, 17 парадная, 6 этаж. Требую привести кабель-канал и защитные крышки в надлежащее состояние.').ents)"
   ]
  },
  {
   "cell_type": "code",
   "execution_count": 49,
   "metadata": {},
   "outputs": [],
   "source": [
    "nlp_problem.to_disk(\"nlp_prob\")\n",
    "nlp_place.to_disk(\"nlp_place\")"
   ]
  },
  {
   "cell_type": "code",
   "execution_count": 50,
   "metadata": {},
   "outputs": [
    {
     "data": {
      "text/plain": [
       "<spacy.lang.ru.Russian at 0x2360c269100>"
      ]
     },
     "execution_count": 50,
     "metadata": {},
     "output_type": "execute_result"
    }
   ],
   "source": [
    "spacy.load('./nlp_place')\n",
    "spacy.load('./nlp_prob')"
   ]
  }
 ],
 "metadata": {
  "kernelspec": {
   "display_name": "IntDB",
   "language": "python",
   "name": "python3"
  },
  "language_info": {
   "codemirror_mode": {
    "name": "ipython",
    "version": 3
   },
   "file_extension": ".py",
   "mimetype": "text/x-python",
   "name": "python",
   "nbconvert_exporter": "python",
   "pygments_lexer": "ipython3",
   "version": "3.9.2"
  }
 },
 "nbformat": 4,
 "nbformat_minor": 2
}
