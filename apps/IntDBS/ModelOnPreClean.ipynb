{
 "cells": [
  {
   "cell_type": "code",
   "execution_count": 8,
   "id": "98ec6d0a-1e75-462c-9610-f98b098059da",
   "metadata": {
    "execution": {
     "iopub.execute_input": "2023-11-24T06:15:56.798403Z",
     "iopub.status.busy": "2023-11-24T06:15:56.797685Z",
     "iopub.status.idle": "2023-11-24T06:15:56.818536Z",
     "shell.execute_reply": "2023-11-24T06:15:56.817315Z",
     "shell.execute_reply.started": "2023-11-24T06:15:56.798362Z"
    },
    "tags": []
   },
   "outputs": [],
   "source": [
    "import torch\n",
    "import pandas as pd\n",
    "import torchdata\n",
    "from transformers import AutoTokenizer, AutoModel\n",
    "from sentence_transformers import SentenceTransformer, util\n",
    "from imblearn.over_sampling import RandomOverSampler\n",
    "from imblearn.under_sampling import RandomUnderSampler\n",
    "from sklearn.model_selection import train_test_split\n",
    "from sklearn.metrics import f1_score, classification_report, confusion_matrix\n",
    "from transformers import pipeline\n",
    "import seaborn\n",
    "import re\n",
    "import nltk\n",
    "from nltk.corpus import stopwords\n",
    "from string import punctuation"
   ]
  },
  {
   "cell_type": "code",
   "execution_count": 10,
   "id": "d9018423-a92f-4963-a42d-6c403d0fe758",
   "metadata": {
    "execution": {
     "iopub.execute_input": "2023-11-24T06:16:04.996296Z",
     "iopub.status.busy": "2023-11-24T06:16:04.995381Z",
     "iopub.status.idle": "2023-11-24T06:16:05.027777Z",
     "shell.execute_reply": "2023-11-24T06:16:05.026510Z",
     "shell.execute_reply.started": "2023-11-24T06:16:04.996261Z"
    },
    "tags": []
   },
   "outputs": [
    {
     "name": "stderr",
     "output_type": "stream",
     "text": [
      "[nltk_data] Downloading package stopwords to\n",
      "[nltk_data]     /home/jupyter/nltk_data...\n",
      "[nltk_data]   Package stopwords is already up-to-date!\n"
     ]
    }
   ],
   "source": [
    "nltk.download('stopwords')\n",
    "rus_stop_words = stopwords.words(\"russian\")\n",
    "symbols = list(punctuation) + ['\\t', '\\n', '\\r',\n",
    "                               '№', '#', '@', '^', '%', '*', '»', '«', '×', 'ń', '√', 'а́']\n",
    "emojy = [\n",
    "    '\\xeb',\n",
    "    '\\ufffc',\n",
    "    '\\xbf',\n",
    "    '\\u2011',\n",
    "    '\\u200b',\n",
    "    '\\u203c'\n",
    "]\n"
   ]
  },
  {
   "cell_type": "code",
   "execution_count": 11,
   "id": "53bb36e7-9df8-41d7-a075-919ff57b90f0",
   "metadata": {
    "execution": {
     "iopub.execute_input": "2023-11-24T06:16:14.818595Z",
     "iopub.status.busy": "2023-11-24T06:16:14.817875Z",
     "iopub.status.idle": "2023-11-24T06:16:14.856399Z",
     "shell.execute_reply": "2023-11-24T06:16:14.855221Z",
     "shell.execute_reply.started": "2023-11-24T06:16:14.818560Z"
    },
    "tags": []
   },
   "outputs": [],
   "source": [
    "emoj = re.compile('['\n",
    "                  u'\\U0001F600-\\U0001F64F'\n",
    "                  u'\\U0001F300-\\U0001F5FF'\n",
    "                  u'\\U0001F680-\\U0001F6FF'\n",
    "                  u'\\U0001F1E0-\\U0001F1FF'\n",
    "                  u'\\U00002500-\\U00002BEF'\n",
    "                  u'\\U00002702-\\U000027B0'\n",
    "                  u'\\U000024C2-\\U0001F251'\n",
    "                  u'\\U0001f926-\\U0001f937'\n",
    "                  u'\\U00010000-\\U0010ffff'\n",
    "                  u'\\u2640-\\u2642'\n",
    "                  u'\\u2600-\\u2B55'\n",
    "                  u'\\u200d'\n",
    "                  u'\\u23cf'\n",
    "                  u'\\u23e9'\n",
    "                  u'\\u231a'\n",
    "                  u'\\ufe0f'\n",
    "                  u'\\u3030'\n",
    "                  ']', re.UNICODE)\n"
   ]
  },
  {
   "cell_type": "code",
   "execution_count": 21,
   "id": "2df570af-5e96-49de-ba9c-ce37a88a6548",
   "metadata": {
    "execution": {
     "iopub.execute_input": "2023-11-24T06:20:33.996805Z",
     "iopub.status.busy": "2023-11-24T06:20:33.995800Z",
     "iopub.status.idle": "2023-11-24T06:20:34.041164Z",
     "shell.execute_reply": "2023-11-24T06:20:34.039985Z",
     "shell.execute_reply.started": "2023-11-24T06:20:33.996755Z"
    },
    "tags": []
   },
   "outputs": [],
   "source": [
    "def bad_patterns_to_tags_replaser(text: str):\n",
    "    text = re.sub(r'[\\n\\.\\,\\?\\(\\)\\[\\]\\'\\\"\\*\\{\\}\\|\\\\\\$\\^\\&\\!\\<\\>\\:\\;«»-]', ' ', text)\n",
    "    text = re.sub(r'\\w+@\\w?mail', ' ', text)\n",
    "    text = re.sub(r'\\w+@\\w?mail.\\w+', ' ', text)\n",
    "    text = re.sub(r'\\d+\\:\\d+\\:\\d+', ' ', text)\n",
    "    text = re.sub(r'\\d+\\:\\d+', ' ', text)\n",
    "    text = re.sub(r'\\+{,1}\\d{1,3}\\({,1}[\\-\\s]{,1}\\d{3}\\){,1}[\\-\\s]{,1}\\d{3}[\\-\\s]{,1}\\d{2}[\\-\\s]{,1}\\d{2}', ' ', text)\n",
    "    text = re.sub('\\d+/\\d+/\\d+', ' ', text)\n",
    "    text = re.sub('\\d+-\\d+-\\d+', ' ', text)\n",
    "    text = re.sub('\\d+th', ' ', text)\n",
    "    text = re.sub('\\d+rd', ' ', text)\n",
    "    text = re.sub('\\d+st', ' ', text)\n",
    "    text = re.sub('[\\+\\-]?\\d+.\\d+', ' ', text)\n",
    "    text = re.sub('[\\+\\-]?\\d+,\\d+', ' ', text)\n",
    "    text = re.sub('\\d+', ' ', text)\n",
    "    # text = re.sub(r'\\w+\\.', '<SHORT>', text[0:-1]) + '.'\n",
    "    for i in emojy:\n",
    "        text = text.replace(i, ' ')\n",
    "    text = re.sub(emoj, ' ', text)\n",
    "    text = re.sub(r'\\s+', ' ', text)\n",
    "    return text\n"
   ]
  },
  {
   "cell_type": "code",
   "execution_count": 13,
   "id": "ebc163e0-5dde-4f43-bc78-0f66a42cbf9b",
   "metadata": {
    "execution": {
     "iopub.execute_input": "2023-11-24T06:17:25.132269Z",
     "iopub.status.busy": "2023-11-24T06:17:25.130986Z",
     "iopub.status.idle": "2023-11-24T06:17:25.166470Z",
     "shell.execute_reply": "2023-11-24T06:17:25.165351Z",
     "shell.execute_reply.started": "2023-11-24T06:17:25.132213Z"
    },
    "tags": []
   },
   "outputs": [],
   "source": [
    "def print_simple_data_pipe(date_pipe: torchdata.datapipes.iter.IterDataPipe, f=lambda a: a, n=10) -> None:\n",
    "  print(type(date_pipe))\n",
    "  x = 0\n",
    "  for sample in date_pipe:\n",
    "    print(f(sample))\n",
    "    if x == n:\n",
    "      break\n",
    "    x +=1\n"
   ]
  },
  {
   "cell_type": "code",
   "execution_count": 14,
   "id": "f5e47ad7-e5f2-4b0d-9460-9be7c3651d40",
   "metadata": {
    "execution": {
     "iopub.execute_input": "2023-11-24T06:17:31.115580Z",
     "iopub.status.busy": "2023-11-24T06:17:31.114522Z",
     "iopub.status.idle": "2023-11-24T06:17:31.576105Z",
     "shell.execute_reply": "2023-11-24T06:17:31.574983Z",
     "shell.execute_reply.started": "2023-11-24T06:17:31.115538Z"
    }
   },
   "outputs": [
    {
     "data": {
      "text/html": [
       "<div>\n",
       "<style scoped>\n",
       "    .dataframe tbody tr th:only-of-type {\n",
       "        vertical-align: middle;\n",
       "    }\n",
       "\n",
       "    .dataframe tbody tr th {\n",
       "        vertical-align: top;\n",
       "    }\n",
       "\n",
       "    .dataframe thead th {\n",
       "        text-align: right;\n",
       "    }\n",
       "</style>\n",
       "<table border=\"1\" class=\"dataframe\">\n",
       "  <thead>\n",
       "    <tr style=\"text-align: right;\">\n",
       "      <th></th>\n",
       "      <th>Исполнитель</th>\n",
       "      <th>Группа тем</th>\n",
       "      <th>Текст инцидента</th>\n",
       "      <th>Тема</th>\n",
       "    </tr>\n",
       "  </thead>\n",
       "  <tbody>\n",
       "    <tr>\n",
       "      <th>0</th>\n",
       "      <td>Лысьвенский городской округ</td>\n",
       "      <td>Благоустройство</td>\n",
       "      <td>'Добрый день. Сегодня, 20.08.22, моя мать шла ...</td>\n",
       "      <td>★ Ямы во дворах</td>\n",
       "    </tr>\n",
       "    <tr>\n",
       "      <th>1</th>\n",
       "      <td>Министерство социального развития ПК</td>\n",
       "      <td>Социальное обслуживание и защита</td>\n",
       "      <td>'Пермь г, +79194692145. В Перми с ноября 2021 ...</td>\n",
       "      <td>Оказание гос. соц. помощи</td>\n",
       "    </tr>\n",
       "    <tr>\n",
       "      <th>2</th>\n",
       "      <td>Министерство социального развития ПК</td>\n",
       "      <td>Социальное обслуживание и защита</td>\n",
       "      <td>'Добрый день ! Скажите пожалуйста если подовал...</td>\n",
       "      <td>Дети и многодетные семьи</td>\n",
       "    </tr>\n",
       "    <tr>\n",
       "      <th>3</th>\n",
       "      <td>Город Пермь</td>\n",
       "      <td>Общественный транспорт</td>\n",
       "      <td>'Каждая из них не о чем. Люди на остановках хо...</td>\n",
       "      <td>Содержание остановок</td>\n",
       "    </tr>\n",
       "    <tr>\n",
       "      <th>4</th>\n",
       "      <td>Министерство здравоохранения</td>\n",
       "      <td>Здравоохранение/Медицина</td>\n",
       "      <td>'В Березниках у сына привитого откоронавируса ...</td>\n",
       "      <td>Технические проблемы с записью на прием к врачу</td>\n",
       "    </tr>\n",
       "  </tbody>\n",
       "</table>\n",
       "</div>"
      ],
      "text/plain": [
       "                            Исполнитель  ...                                             Тема\n",
       "0           Лысьвенский городской округ  ...                                  ★ Ямы во дворах\n",
       "1  Министерство социального развития ПК  ...                        Оказание гос. соц. помощи\n",
       "2  Министерство социального развития ПК  ...                         Дети и многодетные семьи\n",
       "3                           Город Пермь  ...                             Содержание остановок\n",
       "4          Министерство здравоохранения  ...  Технические проблемы с записью на прием к врачу\n",
       "\n",
       "[5 rows x 4 columns]"
      ]
     },
     "execution_count": 14,
     "metadata": {},
     "output_type": "execute_result"
    }
   ],
   "source": [
    "data = pd.read_csv('./train_dataset_train.csv', sep=\";\")\n",
    "data.head()"
   ]
  },
  {
   "cell_type": "code",
   "execution_count": 15,
   "id": "63949b09-27bd-4132-8cc2-e91c4e2d8daa",
   "metadata": {
    "execution": {
     "iopub.execute_input": "2023-11-24T06:17:50.107093Z",
     "iopub.status.busy": "2023-11-24T06:17:50.106430Z",
     "iopub.status.idle": "2023-11-24T06:17:50.125437Z",
     "shell.execute_reply": "2023-11-24T06:17:50.124350Z",
     "shell.execute_reply.started": "2023-11-24T06:17:50.107039Z"
    }
   },
   "outputs": [
    {
     "data": {
      "text/plain": [
       "{'Благоустройство': 0,\n",
       " 'Социальное обслуживание и защита': 1,\n",
       " 'Общественный транспорт': 2,\n",
       " 'Здравоохранение/Медицина': 3,\n",
       " 'Мусор/Свалки/ТКО': 4,\n",
       " 'Образование': 5,\n",
       " 'Дороги': 6,\n",
       " 'ЖКХ': 7,\n",
       " 'Коронавирус': 8,\n",
       " 'Экономика и бизнес': 9,\n",
       " 'Культура': 10,\n",
       " 'Связь и телевидение': 11,\n",
       " 'Газ и топливо': 12,\n",
       " 'Безопасность': 13,\n",
       " 'Спецпроекты': 14,\n",
       " 'Мобилизация': 15,\n",
       " 'МФЦ \"Мои документы\"': 16,\n",
       " 'Физическая культура и спорт': 17,\n",
       " 'Торговля': 18,\n",
       " 'Строительство и архитектура': 19,\n",
       " 'Памятники и объекты культурного наследия': 20,\n",
       " 'Экология': 21,\n",
       " 'Государственная собственность': 22,\n",
       " 'Роспотребнадзор': 23,\n",
       " 'Погребение и похоронное дело': 24,\n",
       " 'Электроснабжение': 25}"
      ]
     },
     "execution_count": 15,
     "metadata": {},
     "output_type": "execute_result"
    }
   ],
   "source": [
    "theme_group_classes = {j: i for i, j in enumerate(data['Группа тем'].unique())}\n",
    "theme_group_classes"
   ]
  },
  {
   "cell_type": "code",
   "execution_count": null,
   "id": "7e1c6a05-269c-47b9-be50-10090ed9d5ca",
   "metadata": {},
   "outputs": [],
   "source": []
  },
  {
   "cell_type": "code",
   "execution_count": 23,
   "id": "ea363f58-e753-477f-8094-af12bbc71e5a",
   "metadata": {
    "execution": {
     "iopub.execute_input": "2023-11-24T06:21:13.844834Z",
     "iopub.status.busy": "2023-11-24T06:21:13.843580Z",
     "iopub.status.idle": "2023-11-24T06:21:14.495061Z",
     "shell.execute_reply": "2023-11-24T06:21:14.494001Z",
     "shell.execute_reply.started": "2023-11-24T06:21:13.844771Z"
    },
    "tags": []
   },
   "outputs": [
    {
     "name": "stdout",
     "output_type": "stream",
     "text": [
      "OS: (2990, 2)\n",
      "Prev: (22077, 4)\n",
      "10\n"
     ]
    },
    {
     "data": {
      "text/html": [
       "<div>\n",
       "<style scoped>\n",
       "    .dataframe tbody tr th:only-of-type {\n",
       "        vertical-align: middle;\n",
       "    }\n",
       "\n",
       "    .dataframe tbody tr th {\n",
       "        vertical-align: top;\n",
       "    }\n",
       "\n",
       "    .dataframe thead th {\n",
       "        text-align: right;\n",
       "    }\n",
       "</style>\n",
       "<table border=\"1\" class=\"dataframe\">\n",
       "  <thead>\n",
       "    <tr style=\"text-align: right;\">\n",
       "      <th></th>\n",
       "      <th>Текст инцидента</th>\n",
       "      <th>Группа тем</th>\n",
       "    </tr>\n",
       "  </thead>\n",
       "  <tbody>\n",
       "    <tr>\n",
       "      <th>0</th>\n",
       "      <td>Здравствуйте когда будет обработка парков от ...</td>\n",
       "      <td>Безопасность</td>\n",
       "    </tr>\n",
       "    <tr>\n",
       "      <th>1</th>\n",
       "      <td>Северный ул Чернышевского Так то их в три раз...</td>\n",
       "      <td>Безопасность</td>\n",
       "    </tr>\n",
       "    <tr>\n",
       "      <th>2</th>\n",
       "      <td>Здравствуйте уважаемые специалисты Администра...</td>\n",
       "      <td>Безопасность</td>\n",
       "    </tr>\n",
       "    <tr>\n",
       "      <th>3</th>\n",
       "      <td>Началось br Во двор уже лезут вроде ещё даже ...</td>\n",
       "      <td>Безопасность</td>\n",
       "    </tr>\n",
       "    <tr>\n",
       "      <th>4</th>\n",
       "      <td>Почему вы не передаёте информацию в полицию</td>\n",
       "      <td>Безопасность</td>\n",
       "    </tr>\n",
       "  </tbody>\n",
       "</table>\n",
       "</div>"
      ],
      "text/plain": [
       "                                     Текст инцидента    Группа тем\n",
       "0   Здравствуйте когда будет обработка парков от ...  Безопасность\n",
       "1   Северный ул Чернышевского Так то их в три раз...  Безопасность\n",
       "2   Здравствуйте уважаемые специалисты Администра...  Безопасность\n",
       "3   Началось br Во двор уже лезут вроде ещё даже ...  Безопасность\n",
       "4       Почему вы не передаёте информацию в полицию   Безопасность"
      ]
     },
     "execution_count": 23,
     "metadata": {},
     "output_type": "execute_result"
    }
   ],
   "source": [
    "theme_group_counts = data['Группа тем'].value_counts()\n",
    "b = theme_group_counts[theme_group_counts > 250].index.to_list()\n",
    "data_rem_c = data.loc[data['Группа тем'].apply(lambda a: a in b)]\n",
    "name_os, system_os = RandomUnderSampler().fit_resample(data_rem_c.loc[:, ['Текст инцидента']], data_rem_c['Группа тем'])\n",
    "data_os = pd.DataFrame({'Текст инцидента': name_os['Текст инцидента'].apply(lambda a: bad_patterns_to_tags_replaser(a)), 'Группа тем': system_os})\n",
    "print(\"OS:\", data_os.shape)\n",
    "print(\"Prev:\", data_rem_c.shape)\n",
    "theme_group_classes = {j: i for i, j in enumerate(data_os['Группа тем'].unique())}\n",
    "print(len(theme_group_classes))\n",
    "data_os.head()"
   ]
  },
  {
   "cell_type": "code",
   "execution_count": 24,
   "id": "b69e8e62-4300-4a46-81c0-a0fdd01920c5",
   "metadata": {
    "execution": {
     "iopub.execute_input": "2023-11-24T06:21:22.554243Z",
     "iopub.status.busy": "2023-11-24T06:21:22.553105Z",
     "iopub.status.idle": "2023-11-24T06:21:22.577889Z",
     "shell.execute_reply": "2023-11-24T06:21:22.576626Z",
     "shell.execute_reply.started": "2023-11-24T06:21:22.554169Z"
    }
   },
   "outputs": [],
   "source": [
    "X_train_os, X_test_os, y_train_os, y_test_os = train_test_split(data_os['Текст инцидента'], data_os['Группа тем'], test_size=0.1)\n",
    "X_train, X_test, y_train, y_test = train_test_split(data_os['Текст инцидента'], data_os['Группа тем'])\n"
   ]
  },
  {
   "cell_type": "code",
   "execution_count": 25,
   "id": "17a29a00-d074-487d-80eb-5296e6dc084f",
   "metadata": {
    "execution": {
     "iopub.execute_input": "2023-11-24T06:22:17.711722Z",
     "iopub.status.busy": "2023-11-24T06:22:17.710607Z",
     "iopub.status.idle": "2023-11-24T06:22:17.771088Z",
     "shell.execute_reply": "2023-11-24T06:22:17.769960Z",
     "shell.execute_reply.started": "2023-11-24T06:22:17.711665Z"
    }
   },
   "outputs": [],
   "source": [
    "pd.DataFrame({'name': X_train_os, 'system': y_train_os}).to_csv('./os_dataset_train2.csv', index=False)\n",
    "pd.DataFrame({'name': X_test_os, 'system': y_test_os}).to_csv('./os_dataset_test2.csv', index=False)\n"
   ]
  },
  {
   "cell_type": "code",
   "execution_count": 26,
   "id": "a9bdbb54-6cb4-4cb0-aa8f-4cd6b282bd58",
   "metadata": {
    "execution": {
     "iopub.execute_input": "2023-11-24T06:22:18.723445Z",
     "iopub.status.busy": "2023-11-24T06:22:18.722492Z",
     "iopub.status.idle": "2023-11-24T06:22:25.876060Z",
     "shell.execute_reply": "2023-11-24T06:22:25.874785Z",
     "shell.execute_reply.started": "2023-11-24T06:22:18.723395Z"
    }
   },
   "outputs": [
    {
     "data": {
      "application/vnd.jupyter.widget-view+json": {
       "model_id": "f447490389114953b7dbd9552f7e372e",
       "version_major": 2,
       "version_minor": 0
      },
      "text/plain": [
       "tokenizer_config.json:   0%|          | 0.00/350 [00:00<?, ?B/s]"
      ]
     },
     "metadata": {},
     "output_type": "display_data"
    },
    {
     "data": {
      "application/vnd.jupyter.widget-view+json": {
       "model_id": "ffacbb8ba10a4ab0bcbbe6d72d2d8eb0",
       "version_major": 2,
       "version_minor": 0
      },
      "text/plain": [
       "vocab.txt:   0%|          | 0.00/232k [00:00<?, ?B/s]"
      ]
     },
     "metadata": {},
     "output_type": "display_data"
    },
    {
     "data": {
      "application/vnd.jupyter.widget-view+json": {
       "model_id": "0ea2dbb2c2c1494b984700e8fcca6112",
       "version_major": 2,
       "version_minor": 0
      },
      "text/plain": [
       "tokenizer.json:   0%|          | 0.00/466k [00:00<?, ?B/s]"
      ]
     },
     "metadata": {},
     "output_type": "display_data"
    },
    {
     "data": {
      "application/vnd.jupyter.widget-view+json": {
       "model_id": "a1142f4c72a548c49ddc066ece400773",
       "version_major": 2,
       "version_minor": 0
      },
      "text/plain": [
       "special_tokens_map.json:   0%|          | 0.00/112 [00:00<?, ?B/s]"
      ]
     },
     "metadata": {},
     "output_type": "display_data"
    },
    {
     "data": {
      "application/vnd.jupyter.widget-view+json": {
       "model_id": "247c04150a8a4e719bc04668b7618686",
       "version_major": 2,
       "version_minor": 0
      },
      "text/plain": [
       "config.json:   0%|          | 0.00/612 [00:00<?, ?B/s]"
      ]
     },
     "metadata": {},
     "output_type": "display_data"
    },
    {
     "data": {
      "application/vnd.jupyter.widget-view+json": {
       "model_id": "3d6f9ca1048048fea6b84bf0c50eb015",
       "version_major": 2,
       "version_minor": 0
      },
      "text/plain": [
       "pytorch_model.bin:   0%|          | 0.00/90.9M [00:00<?, ?B/s]"
      ]
     },
     "metadata": {},
     "output_type": "display_data"
    }
   ],
   "source": [
    "tokenizer = AutoTokenizer.from_pretrained(\"sentence-transformers/all-MiniLM-L6-v2\")\n",
    "sentence_vectorizer = AutoModel.from_pretrained(\"sentence-transformers/all-MiniLM-L6-v2\")"
   ]
  },
  {
   "cell_type": "code",
   "execution_count": 43,
   "id": "24557691-adfc-4bc9-8664-bf9525ec1b30",
   "metadata": {
    "execution": {
     "iopub.execute_input": "2023-11-24T06:51:52.855438Z",
     "iopub.status.busy": "2023-11-24T06:51:52.854332Z",
     "iopub.status.idle": "2023-11-24T06:51:53.727419Z",
     "shell.execute_reply": "2023-11-24T06:51:53.726243Z",
     "shell.execute_reply.started": "2023-11-24T06:51:52.855397Z"
    },
    "tags": []
   },
   "outputs": [
    {
     "name": "stdout",
     "output_type": "stream",
     "text": [
      "<class 'torch.utils.data.dataloader.DataLoader'>\n",
      "(torch.Size([20, 128, 384]), torch.Size([20, 10]))\n",
      "(torch.Size([20, 128, 384]), torch.Size([20, 10]))\n"
     ]
    }
   ],
   "source": [
    "def mean_pooling(model_output, attention_mask):\n",
    "    token_embeddings = model_output[0] #First element of model_output contains all token embeddings\n",
    "    # input_mask_expanded = attention_mask.unsqueeze(-1).expand(token_embeddings.size()).float()\n",
    "    # print('->', input_mask_expanded.shape, attention_mask.shape, token_embeddings.shape)\n",
    "    # sum_embeddings = torch.sum(token_embeddings * input_mask_expanded, 1)\n",
    "    # sum_mask = torch.clamp(input_mask_expanded.sum(1), min=1e-9)\n",
    "    k = torch.cat([token_embeddings, torch.zeros(token_embeddings.shape[0], 128 - token_embeddings.shape[1], token_embeddings.shape[2])], 1)\n",
    "    # print('->', k.shape)\n",
    "    return k\n",
    "\n",
    "def processing(pair):\n",
    "    with torch.no_grad():\n",
    "        e = tokenizer(pair[0], padding=True, truncation=True, max_length=128, return_tensors='pt')\n",
    "        k = sentence_vectorizer(**e)\n",
    "    return (mean_pooling(k, e['attention_mask'])[0], torch.nn.functional.one_hot(torch.tensor([theme_group_classes[pair[1]]]), len(theme_group_classes))[0])\n",
    "train_pairs = torchdata.datapipes.iter.IterableWrapper(['./os_dataset_train2.csv'])\n",
    "train_pairs = torchdata.datapipes.iter.FileOpener(train_pairs, mode='r', encoding='utf-8', )\n",
    "train_pairs = train_pairs.parse_csv(skip_lines=1, delimiter=',')\n",
    "train_pairs = train_pairs.shuffle().map(processing)\n",
    "train_dataloader = torch.utils.data.DataLoader(train_pairs, batch_size=20, shuffle=True)\n",
    "print_simple_data_pipe(train_dataloader, lambda a: (a[0].shape, a[1].shape), n=1)"
   ]
  },
  {
   "cell_type": "code",
   "execution_count": 28,
   "id": "5f518881-2ecb-4bdb-9460-06f24a9118a0",
   "metadata": {
    "execution": {
     "iopub.execute_input": "2023-11-24T06:23:23.240001Z",
     "iopub.status.busy": "2023-11-24T06:23:23.239247Z",
     "iopub.status.idle": "2023-11-24T06:23:23.256931Z",
     "shell.execute_reply": "2023-11-24T06:23:23.255944Z",
     "shell.execute_reply.started": "2023-11-24T06:23:23.239952Z"
    }
   },
   "outputs": [],
   "source": [
    "class RecGRUExample(torch.nn.Module):\n",
    "    def __init__(\n",
    "        self,\n",
    "        size_of_sample: int,\n",
    "        num_of_samples: int,\n",
    "        output_size_of_input_layer: int,\n",
    "        output_layer_size: int,\n",
    "        alpha: float = 5\n",
    "    ):\n",
    "        \n",
    "        super(RecGRUExample, self).__init__()\n",
    "        self.alpha = alpha\n",
    "        self.input_size_of_input_layer = size_of_sample\n",
    "        self.output_size_of_input_layer = output_size_of_input_layer\n",
    "        self.num_layers_of_input_layer = int(num_of_samples / (alpha * (self.input_size_of_input_layer + self.output_size_of_input_layer)))+1\n",
    "        self.output_layer_size = output_layer_size\n",
    "        self.num_of_samples = num_of_samples\n",
    "\n",
    "        self.input_layer = torch.nn.GRU(\n",
    "            input_size=self.input_size_of_input_layer,\n",
    "            hidden_size=self.output_size_of_input_layer,\n",
    "            num_layers=self.num_layers_of_input_layer,\n",
    "            # bidirectional = True\n",
    "        )\n",
    "        self.output_layer = torch.nn.Conv1d(\n",
    "            self.num_of_samples,\n",
    "            self.output_layer_size,\n",
    "            self.output_size_of_input_layer,\n",
    "        )\n",
    "\n",
    "        self.input_activation = torch.nn.Tanh()\n",
    "        self.h1 = torch.zeros(self.num_layers_of_input_layer, self.num_of_samples, self.output_size_of_input_layer).double().to('cuda')\n",
    "\n",
    "    def forward(self, x):\n",
    "        y, h_r = self.input_layer(x, self.h1)\n",
    "        # print(y.shape)\n",
    "        y = self.input_activation(y)\n",
    "        y = self.output_layer(y)\n",
    "        return y.view(y.shape[0], y.shape[1])\n"
   ]
  },
  {
   "cell_type": "code",
   "execution_count": 44,
   "id": "9d122ee1-6b2e-48be-a4bc-ca72dff1a3e3",
   "metadata": {
    "execution": {
     "iopub.execute_input": "2023-11-24T06:52:56.997662Z",
     "iopub.status.busy": "2023-11-24T06:52:56.996591Z",
     "iopub.status.idle": "2023-11-24T06:52:57.021948Z",
     "shell.execute_reply": "2023-11-24T06:52:57.020772Z",
     "shell.execute_reply.started": "2023-11-24T06:52:56.997590Z"
    },
    "tags": []
   },
   "outputs": [],
   "source": [
    "model_GRU = RecGRUExample(\n",
    "    size_of_sample=384,\n",
    "    num_of_samples=128,\n",
    "    output_size_of_input_layer=50,\n",
    "    output_layer_size=10,\n",
    "    alpha=0.1\n",
    ").double().to('cuda')\n"
   ]
  },
  {
   "cell_type": "code",
   "execution_count": 54,
   "id": "7deb46e7-4d87-4977-bddd-9913947e5739",
   "metadata": {
    "execution": {
     "iopub.execute_input": "2023-11-24T07:52:23.774114Z",
     "iopub.status.busy": "2023-11-24T07:52:23.773116Z",
     "iopub.status.idle": "2023-11-24T07:52:23.797756Z",
     "shell.execute_reply": "2023-11-24T07:52:23.796663Z",
     "shell.execute_reply.started": "2023-11-24T07:52:23.774077Z"
    }
   },
   "outputs": [
    {
     "data": {
      "text/plain": [
       "{'Безопасность': 0,\n",
       " 'Благоустройство': 1,\n",
       " 'Дороги': 2,\n",
       " 'ЖКХ': 3,\n",
       " 'Здравоохранение/Медицина': 4,\n",
       " 'Коронавирус': 5,\n",
       " 'Мусор/Свалки/ТКО': 6,\n",
       " 'Образование': 7,\n",
       " 'Общественный транспорт': 8,\n",
       " 'Социальное обслуживание и защита': 9}"
      ]
     },
     "execution_count": 54,
     "metadata": {},
     "output_type": "execute_result"
    }
   ],
   "source": [
    "theme_group_classes"
   ]
  },
  {
   "cell_type": "code",
   "execution_count": 45,
   "id": "07528aa3-e45b-4e5d-8dae-809309b2f883",
   "metadata": {
    "execution": {
     "iopub.execute_input": "2023-11-24T06:52:58.294410Z",
     "iopub.status.busy": "2023-11-24T06:52:58.293831Z",
     "iopub.status.idle": "2023-11-24T06:52:58.317020Z",
     "shell.execute_reply": "2023-11-24T06:52:58.315812Z",
     "shell.execute_reply.started": "2023-11-24T06:52:58.294377Z"
    },
    "tags": []
   },
   "outputs": [
    {
     "data": {
      "text/plain": [
       "3"
      ]
     },
     "execution_count": 45,
     "metadata": {},
     "output_type": "execute_result"
    }
   ],
   "source": [
    "model_GRU.num_layers_of_input_layer"
   ]
  },
  {
   "cell_type": "code",
   "execution_count": 46,
   "id": "2ee4c1d5-d5f8-447f-92e4-ff1930c6292a",
   "metadata": {
    "execution": {
     "iopub.execute_input": "2023-11-24T06:52:59.207160Z",
     "iopub.status.busy": "2023-11-24T06:52:59.206325Z",
     "iopub.status.idle": "2023-11-24T06:52:59.223845Z",
     "shell.execute_reply": "2023-11-24T06:52:59.222678Z",
     "shell.execute_reply.started": "2023-11-24T06:52:59.207111Z"
    },
    "tags": []
   },
   "outputs": [],
   "source": [
    "loss = torch.nn.CrossEntropyLoss()\n",
    "optimizer = torch.optim.Adam(model_GRU.parameters(), lr=0.005)\n",
    "er_list_gru = []"
   ]
  },
  {
   "cell_type": "code",
   "execution_count": 48,
   "id": "0c2327c5-6c88-47a3-958f-0838c8a6e867",
   "metadata": {
    "execution": {
     "iopub.execute_input": "2023-11-24T07:12:49.074659Z",
     "iopub.status.busy": "2023-11-24T07:12:49.073910Z",
     "iopub.status.idle": "2023-11-24T07:32:35.458145Z",
     "shell.execute_reply": "2023-11-24T07:32:35.456904Z",
     "shell.execute_reply.started": "2023-11-24T07:12:49.074612Z"
    },
    "tags": []
   },
   "outputs": [
    {
     "name": "stdout",
     "output_type": "stream",
     "text": [
      "suc\n",
      "Эпоха 1, Значение функции потерь: 0.22436263403475812\n",
      "suc\n",
      "Эпоха 2, Значение функции потерь: 0.012425189102480732\n",
      "suc\n",
      "Эпоха 3, Значение функции потерь: 0.10237845981771794\n",
      "suc\n",
      "Эпоха 4, Значение функции потерь: 0.049423749715967275\n",
      "suc\n",
      "Эпоха 5, Значение функции потерь: 0.07433472736685341\n",
      "suc\n",
      "Эпоха 6, Значение функции потерь: 0.3187747535281074\n",
      "suc\n",
      "Эпоха 7, Значение функции потерь: 0.0792147824245882\n",
      "suc\n",
      "Эпоха 8, Значение функции потерь: 0.004434404969355686\n",
      "suc\n",
      "Эпоха 9, Значение функции потерь: 0.16082746786502564\n",
      "suc\n",
      "Эпоха 10, Значение функции потерь: 0.17035207662857044\n",
      "suc\n",
      "Эпоха 11, Значение функции потерь: 0.05852205745516579\n",
      "suc\n",
      "Эпоха 12, Значение функции потерь: 0.19488842762085054\n",
      "suc\n",
      "Эпоха 13, Значение функции потерь: 0.3864144715513986\n",
      "suc\n",
      "Эпоха 14, Значение функции потерь: 0.026218979582144464\n",
      "suc\n",
      "Эпоха 15, Значение функции потерь: 0.030540055013419994\n",
      "suc\n",
      "Эпоха 16, Значение функции потерь: 0.03562364882268149\n",
      "suc\n",
      "Эпоха 17, Значение функции потерь: 0.00113021402601493\n",
      "suc\n",
      "Эпоха 18, Значение функции потерь: 0.0026358312114505267\n",
      "suc\n",
      "Эпоха 19, Значение функции потерь: 0.004274448142117389\n",
      "suc\n",
      "Эпоха 20, Значение функции потерь: 0.07796087219087855\n"
     ]
    }
   ],
   "source": [
    "epochs = 20\n",
    "for epoch in range(epochs):\n",
    "    t = 1\n",
    "    for x_b, y_b in train_dataloader:\n",
    "        outputs = model_GRU(x_b.double().to('cuda'))\n",
    "        loss_value = loss(outputs, y_b.double().to('cuda'))\n",
    "        loss_value.backward(retain_graph=True)\n",
    "        # if len(er_list) > 3:\n",
    "            # if abs(er_list[-1] - er_list[-2]) < 0.001 and er_list[-1] < 10:\n",
    "            #     optimizer = torch.optim.Adam(model_GRU.parameters(), lr=100)\n",
    "            # else:\n",
    "            #     optimizer = torch.optim.Adam(model_GRU.parameters(), lr=0.0001)\n",
    "        optimizer.step()\n",
    "        optimizer.zero_grad()\n",
    "        if t:\n",
    "            t = 0\n",
    "            print('suc')\n",
    "    er_list_gru.append(loss_value.item())\n",
    "    print(f'Эпоха {epoch + 1}, Значение функции потерь: {loss_value.item()}')\n"
   ]
  },
  {
   "cell_type": "code",
   "execution_count": 66,
   "id": "4365f7f4-7e3a-4d86-b8f2-86d9fe1f9d56",
   "metadata": {
    "execution": {
     "iopub.execute_input": "2023-11-24T08:07:40.964977Z",
     "iopub.status.busy": "2023-11-24T08:07:40.963990Z",
     "iopub.status.idle": "2023-11-24T08:07:41.190990Z",
     "shell.execute_reply": "2023-11-24T08:07:41.189791Z",
     "shell.execute_reply.started": "2023-11-24T08:07:40.964929Z"
    },
    "tags": []
   },
   "outputs": [
    {
     "data": {
      "text/plain": [
       "[<matplotlib.lines.Line2D at 0x7faa4075c160>]"
      ]
     },
     "execution_count": 66,
     "metadata": {},
     "output_type": "execute_result"
    },
    {
     "data": {
      "image/png": "[encoded data removed]",
      "text/plain": [
       "<Figure size 480x320 with 1 Axes>"
      ]
     },
     "metadata": {},
     "output_type": "display_data"
    }
   ],
   "source": [
    "import matplotlib.pyplot as plt\n",
    "fig = plt.figure(num=None, dpi=80, facecolor='#101113', edgecolor='#ABE85D')\n",
    "plt.axes().set_facecolor('#101113')\n",
    "plt.xticks(color=\"#ABE85D\")\n",
    "plt.yticks(color=\"#ABE85D\")\n",
    "plt.ylabel('CEL', color=\"#ABE85D\")\n",
    "plt.xlabel('Epoch', color=\"#ABE85D\")\n",
    "plt.plot(er_list_gru, color='#ABE85D')"
   ]
  },
  {
   "cell_type": "code",
   "execution_count": 49,
   "id": "3033ec88-1928-4e96-a318-2cf03882fed9",
   "metadata": {
    "execution": {
     "iopub.execute_input": "2023-11-24T07:32:41.421097Z",
     "iopub.status.busy": "2023-11-24T07:32:41.420154Z",
     "iopub.status.idle": "2023-11-24T07:32:48.714847Z",
     "shell.execute_reply": "2023-11-24T07:32:48.713443Z",
     "shell.execute_reply.started": "2023-11-24T07:32:41.421063Z"
    },
    "tags": []
   },
   "outputs": [
    {
     "name": "stdout",
     "output_type": "stream",
     "text": [
      "<class 'torch.utils.data.dataloader.DataLoader'>\n",
      "(torch.Size([1, 128, 384]), torch.Size([1, 10]))\n",
      "(torch.Size([1, 128, 384]), torch.Size([1, 10]))\n"
     ]
    }
   ],
   "source": [
    "test_pairs = torchdata.datapipes.iter.IterableWrapper(['./os_dataset_test2.csv'])\n",
    "test_pairs = torchdata.datapipes.iter.FileOpener(test_pairs, mode='r', encoding='utf-8', )\n",
    "test_pairs = test_pairs.parse_csv(skip_lines=1, delimiter=',')\n",
    "test_pairs = test_pairs.map(processing)\n",
    "test_dataloader = torch.utils.data.DataLoader(test_pairs, batch_size=1)\n",
    "print_simple_data_pipe(test_dataloader, lambda a: (a[0].shape, a[1].shape), n=1)\n",
    "t_y = []\n",
    "r_y = []\n",
    "for i, j in test_dataloader:\n",
    "    r = model_GRU(i.double().to('cuda'))\n",
    "    # print(r)\n",
    "    # break\n",
    "    r_y.append(torch.argmax(r[0]).item())\n",
    "    t_y.append(torch.argmax(j).item())"
   ]
  },
  {
   "cell_type": "code",
   "execution_count": 50,
   "id": "30f4686b-60e1-423e-9e44-4533ab962e1e",
   "metadata": {
    "execution": {
     "iopub.execute_input": "2023-11-24T07:32:48.716954Z",
     "iopub.status.busy": "2023-11-24T07:32:48.716440Z",
     "iopub.status.idle": "2023-11-24T07:32:48.742905Z",
     "shell.execute_reply": "2023-11-24T07:32:48.741893Z",
     "shell.execute_reply.started": "2023-11-24T07:32:48.716912Z"
    },
    "tags": []
   },
   "outputs": [
    {
     "name": "stdout",
     "output_type": "stream",
     "text": [
      "              precision    recall  f1-score   support\n",
      "\n",
      "           0       0.24      0.23      0.24        26\n",
      "           1       0.30      0.23      0.26        31\n",
      "           2       0.31      0.20      0.24        25\n",
      "           3       0.19      0.16      0.17        32\n",
      "           4       0.19      0.25      0.22        32\n",
      "           5       0.11      0.17      0.14        29\n",
      "           6       0.10      0.13      0.11        39\n",
      "           7       0.23      0.22      0.23        32\n",
      "           8       0.30      0.21      0.24        29\n",
      "           9       0.21      0.21      0.21        24\n",
      "\n",
      "    accuracy                           0.20       299\n",
      "   macro avg       0.22      0.20      0.21       299\n",
      "weighted avg       0.21      0.20      0.20       299\n",
      "\n"
     ]
    }
   ],
   "source": [
    "print(classification_report(t_y, r_y))"
   ]
  },
  {
   "cell_type": "code",
   "execution_count": 52,
   "id": "760ecd16-d349-43ea-bcf9-44a2f206f707",
   "metadata": {
    "execution": {
     "iopub.execute_input": "2023-11-24T07:33:25.020043Z",
     "iopub.status.busy": "2023-11-24T07:33:25.019152Z",
     "iopub.status.idle": "2023-11-24T07:33:25.418165Z",
     "shell.execute_reply": "2023-11-24T07:33:25.417047Z",
     "shell.execute_reply.started": "2023-11-24T07:33:25.020002Z"
    },
    "tags": []
   },
   "outputs": [
    {
     "data": {
      "text/plain": [
       "<Axes: >"
      ]
     },
     "execution_count": 52,
     "metadata": {},
     "output_type": "execute_result"
    },
    {
     "data": {
      "image/png": "[encoded data removed]",
      "text/plain": [
       "<Figure size 432x288 with 2 Axes>"
      ]
     },
     "metadata": {
      "needs_background": "light"
     },
     "output_type": "display_data"
    }
   ],
   "source": [
    "from sklearn.metrics import confusion_matrix\n",
    "import seaborn\n",
    "seaborn.heatmap(confusion_matrix(t_y, r_y))"
   ]
  },
  {
   "cell_type": "code",
   "execution_count": 53,
   "id": "4aea513f-948a-4812-beee-60242173e59c",
   "metadata": {
    "execution": {
     "iopub.execute_input": "2023-11-24T07:34:41.420262Z",
     "iopub.status.busy": "2023-11-24T07:34:41.419406Z",
     "iopub.status.idle": "2023-11-24T07:34:41.453445Z",
     "shell.execute_reply": "2023-11-24T07:34:41.452282Z",
     "shell.execute_reply.started": "2023-11-24T07:34:41.420217Z"
    }
   },
   "outputs": [],
   "source": [
    "torch.save(model_GRU, './my_model_gru_group_theme.bin')"
   ]
  },
  {
   "cell_type": "code",
   "execution_count": null,
   "id": "9f917844-0aa9-43f4-8e33-5baa7a12dfa8",
   "metadata": {},
   "outputs": [],
   "source": []
  }
 ],
 "metadata": {
  "kernelspec": {
   "display_name": "DataSphere Kernel",
   "language": "python",
   "name": "python3"
  },
  "language_info": {
   "codemirror_mode": {
    "name": "ipython",
    "version": 3
   },
   "file_extension": ".py",
   "mimetype": "text/x-python",
   "name": "python",
   "nbconvert_exporter": "python",
   "pygments_lexer": "ipython3",
   "version": "3.7.7"
  }
 },
 "nbformat": 4,
 "nbformat_minor": 5
}
