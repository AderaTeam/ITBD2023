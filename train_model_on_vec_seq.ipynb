{
 "cells": [
  {
   "cell_type": "code",
   "execution_count": 2,
   "metadata": {},
   "outputs": [
    {
     "name": "stderr",
     "output_type": "stream",
     "text": [
      "d:\\InternationalDB\\IntDB\\lib\\site-packages\\tqdm\\auto.py:21: TqdmWarning: IProgress not found. Please update jupyter and ipywidgets. See https://ipywidgets.readthedocs.io/en/stable/user_install.html\n",
      "  from .autonotebook import tqdm as notebook_tqdm\n"
     ]
    }
   ],
   "source": [
    "import pandas as pd\n",
    "import re\n",
    "import seaborn\n",
    "from string import punctuation\n",
    "from nltk.corpus import stopwords\n",
    "import pymorphy2\n",
    "import matplotlib.pyplot as plt\n",
    "import spacy_sentence_bert\n",
    "import tqdm as notebook_tqdm\n",
    "from itertools import combinations\n",
    "import spacy\n",
    "from sentence_transformers import SentenceTransformer, util\n",
    "from imblearn.over_sampling import RandomOverSampler\n",
    "from imblearn.under_sampling import RandomUnderSampler\n",
    "from sklearn.model_selection import train_test_split\n",
    "from sklearn.metrics import f1_score, classification_report, confusion_matrix\n",
    "import datasets\n",
    "import torch\n",
    "from transformers import AutoTokenizer, AutoModel\n",
    "import torchdata"
   ]
  },
  {
   "cell_type": "code",
   "execution_count": 17,
   "metadata": {},
   "outputs": [],
   "source": [
    "def print_simple_data_pipe(date_pipe: torchdata.datapipes.iter.IterDataPipe, f=lambda a: a, n=10) -> None:\n",
    "  print(type(date_pipe))\n",
    "  x = 0\n",
    "  for sample in date_pipe:\n",
    "    print(f(sample))\n",
    "    if x == n:\n",
    "      break\n",
    "    x +=1\n"
   ]
  },
  {
   "cell_type": "code",
   "execution_count": 3,
   "metadata": {},
   "outputs": [],
   "source": [
    "tokenizer = AutoTokenizer.from_pretrained(\"ai-forever/sbert_large_nlu_ru\")\n",
    "sentence_vectorizer = AutoModel.from_pretrained(\"ai-forever/sbert_large_nlu_ru\")\n"
   ]
  },
  {
   "cell_type": "code",
   "execution_count": 4,
   "metadata": {},
   "outputs": [
    {
     "data": {
      "text/html": [
       "<div>\n",
       "<style scoped>\n",
       "    .dataframe tbody tr th:only-of-type {\n",
       "        vertical-align: middle;\n",
       "    }\n",
       "\n",
       "    .dataframe tbody tr th {\n",
       "        vertical-align: top;\n",
       "    }\n",
       "\n",
       "    .dataframe thead th {\n",
       "        text-align: right;\n",
       "    }\n",
       "</style>\n",
       "<table border=\"1\" class=\"dataframe\">\n",
       "  <thead>\n",
       "    <tr style=\"text-align: right;\">\n",
       "      <th></th>\n",
       "      <th>Исполнитель</th>\n",
       "      <th>Группа тем</th>\n",
       "      <th>Текст инцидента</th>\n",
       "      <th>Тема</th>\n",
       "    </tr>\n",
       "  </thead>\n",
       "  <tbody>\n",
       "    <tr>\n",
       "      <th>0</th>\n",
       "      <td>Лысьвенский городской округ</td>\n",
       "      <td>Благоустройство</td>\n",
       "      <td>'Добрый день. Сегодня, 20.08.22, моя мать шла ...</td>\n",
       "      <td>★ Ямы во дворах</td>\n",
       "    </tr>\n",
       "    <tr>\n",
       "      <th>1</th>\n",
       "      <td>Министерство социального развития ПК</td>\n",
       "      <td>Социальное обслуживание и защита</td>\n",
       "      <td>'Пермь г, +79194692145. В Перми с ноября 2021 ...</td>\n",
       "      <td>Оказание гос. соц. помощи</td>\n",
       "    </tr>\n",
       "    <tr>\n",
       "      <th>2</th>\n",
       "      <td>Министерство социального развития ПК</td>\n",
       "      <td>Социальное обслуживание и защита</td>\n",
       "      <td>'Добрый день ! Скажите пожалуйста если подовал...</td>\n",
       "      <td>Дети и многодетные семьи</td>\n",
       "    </tr>\n",
       "    <tr>\n",
       "      <th>3</th>\n",
       "      <td>Город Пермь</td>\n",
       "      <td>Общественный транспорт</td>\n",
       "      <td>'Каждая из них не о чем. Люди на остановках хо...</td>\n",
       "      <td>Содержание остановок</td>\n",
       "    </tr>\n",
       "    <tr>\n",
       "      <th>4</th>\n",
       "      <td>Министерство здравоохранения</td>\n",
       "      <td>Здравоохранение/Медицина</td>\n",
       "      <td>'В Березниках у сына привитого откоронавируса ...</td>\n",
       "      <td>Технические проблемы с записью на прием к врачу</td>\n",
       "    </tr>\n",
       "  </tbody>\n",
       "</table>\n",
       "</div>"
      ],
      "text/plain": [
       "                            Исполнитель                        Группа тем  \\\n",
       "0           Лысьвенский городской округ                   Благоустройство   \n",
       "1  Министерство социального развития ПК  Социальное обслуживание и защита   \n",
       "2  Министерство социального развития ПК  Социальное обслуживание и защита   \n",
       "3                           Город Пермь            Общественный транспорт   \n",
       "4          Министерство здравоохранения          Здравоохранение/Медицина   \n",
       "\n",
       "                                     Текст инцидента  \\\n",
       "0  'Добрый день. Сегодня, 20.08.22, моя мать шла ...   \n",
       "1  'Пермь г, +79194692145. В Перми с ноября 2021 ...   \n",
       "2  'Добрый день ! Скажите пожалуйста если подовал...   \n",
       "3  'Каждая из них не о чем. Люди на остановках хо...   \n",
       "4  'В Березниках у сына привитого откоронавируса ...   \n",
       "\n",
       "                                              Тема  \n",
       "0                                  ★ Ямы во дворах  \n",
       "1                        Оказание гос. соц. помощи  \n",
       "2                         Дети и многодетные семьи  \n",
       "3                             Содержание остановок  \n",
       "4  Технические проблемы с записью на прием к врачу  "
      ]
     },
     "execution_count": 4,
     "metadata": {},
     "output_type": "execute_result"
    }
   ],
   "source": [
    "data = pd.read_csv('./DATA/Hack/train_dataset_train.csv', sep=\";\")\n",
    "data.head()"
   ]
  },
  {
   "cell_type": "code",
   "execution_count": 5,
   "metadata": {},
   "outputs": [],
   "source": [
    "data_p = data.copy(deep=True)\n",
    "data_p['Текст инцидента'] = data_p['Текст инцидента'].apply(lambda a: tokenizer([a], padding=True, truncation=True, max_length=500, return_tensors='pt')['input_ids'])"
   ]
  },
  {
   "cell_type": "markdown",
   "metadata": {},
   "source": [
    "# Check"
   ]
  },
  {
   "cell_type": "code",
   "execution_count": 6,
   "metadata": {},
   "outputs": [],
   "source": [
    "sentences = data['Текст инцидента'][0:3]"
   ]
  },
  {
   "cell_type": "code",
   "execution_count": 7,
   "metadata": {},
   "outputs": [],
   "source": [
    "encoded_input = tokenizer(sentences.to_list(), padding=True, truncation=True, max_length=24, return_tensors='pt')\n"
   ]
  },
  {
   "cell_type": "code",
   "execution_count": 8,
   "metadata": {},
   "outputs": [
    {
     "data": {
      "text/plain": [
       "{'input_ids': tensor([[  101,   245, 48311,   378,  1336,   126,  1806,   121,   830,   126,\n",
       "          8535,   126,  2473,   121,  4137,  4503,  7030,   654,  3907, 31238,\n",
       "           377,  1289, 30432,   102],\n",
       "        [  101,   245, 36020,   394,   122,   121,   250, 11465, 15058, 52399,\n",
       "         60011, 15167,   438,   126,   113, 36020,   378,   110,  2819, 57752,\n",
       "           878,   672,  4209,   102],\n",
       "        [  101,   245, 48311,   378,  1336,   177, 19735, 10511, 28687,   715,\n",
       "          1081,  1258,  1524,   660, 37193,   110,   168,   708,   182,   149,\n",
       "          2988,   121,  1040,   102]]), 'token_type_ids': tensor([[0, 0, 0, 0, 0, 0, 0, 0, 0, 0, 0, 0, 0, 0, 0, 0, 0, 0, 0, 0, 0, 0, 0, 0],\n",
       "        [0, 0, 0, 0, 0, 0, 0, 0, 0, 0, 0, 0, 0, 0, 0, 0, 0, 0, 0, 0, 0, 0, 0, 0],\n",
       "        [0, 0, 0, 0, 0, 0, 0, 0, 0, 0, 0, 0, 0, 0, 0, 0, 0, 0, 0, 0, 0, 0, 0, 0]]), 'attention_mask': tensor([[1, 1, 1, 1, 1, 1, 1, 1, 1, 1, 1, 1, 1, 1, 1, 1, 1, 1, 1, 1, 1, 1, 1, 1],\n",
       "        [1, 1, 1, 1, 1, 1, 1, 1, 1, 1, 1, 1, 1, 1, 1, 1, 1, 1, 1, 1, 1, 1, 1, 1],\n",
       "        [1, 1, 1, 1, 1, 1, 1, 1, 1, 1, 1, 1, 1, 1, 1, 1, 1, 1, 1, 1, 1, 1, 1, 1]])}"
      ]
     },
     "execution_count": 8,
     "metadata": {},
     "output_type": "execute_result"
    }
   ],
   "source": [
    "encoded_input"
   ]
  },
  {
   "cell_type": "code",
   "execution_count": 9,
   "metadata": {},
   "outputs": [
    {
     "data": {
      "text/plain": [
       "torch.Size([3, 24])"
      ]
     },
     "execution_count": 9,
     "metadata": {},
     "output_type": "execute_result"
    }
   ],
   "source": [
    "encoded_input['input_ids'].shape"
   ]
  },
  {
   "cell_type": "code",
   "execution_count": 10,
   "metadata": {},
   "outputs": [],
   "source": [
    "with torch.no_grad():\n",
    "    model_output = sentence_vectorizer(**encoded_input)"
   ]
  },
  {
   "cell_type": "code",
   "execution_count": 36,
   "metadata": {},
   "outputs": [
    {
     "data": {
      "text/plain": [
       "torch.Size([3, 24, 1024])"
      ]
     },
     "execution_count": 36,
     "metadata": {},
     "output_type": "execute_result"
    }
   ],
   "source": [
    "model_output[0].shape"
   ]
  },
  {
   "cell_type": "markdown",
   "metadata": {},
   "source": [
    "# Analize text length"
   ]
  },
  {
   "cell_type": "code",
   "execution_count": 11,
   "metadata": {},
   "outputs": [],
   "source": [
    "len_texts = data_p['Текст инцидента'].apply(lambda a: a.shape[1])"
   ]
  },
  {
   "cell_type": "code",
   "execution_count": 13,
   "metadata": {},
   "outputs": [
    {
     "data": {
      "image/png": "[encoded data removed]",
      "text/plain": [
       "<Figure size 512x384 with 1 Axes>"
      ]
     },
     "metadata": {},
     "output_type": "display_data"
    }
   ],
   "source": [
    "fig = plt.figure(num=None, dpi=80, facecolor='#101113', edgecolor='#ABE85D')\n",
    "plt.axes().set_facecolor('#101113')\n",
    "plt.xticks(color=\"#ABE85D\")\n",
    "plt.yticks(color=\"#ABE85D\")\n",
    "plt.ylabel('CEL', color=\"#ABE85D\")\n",
    "plt.xlabel('Epoch', color=\"#ABE85D\")\n",
    "plt.xticks(rotation = 90)\n",
    "plt.vlines(len_texts.median(), ymin=0, ymax=500, colors='r', label='med len')\n",
    "plt.vlines(len_texts.mean(), ymin=0, ymax=500, colors='orange', label='mean len')\n",
    "plt.hlines(len_texts.value_counts().median(), xmin=0, xmax=500, colors='deeppink', label='med count')\n",
    "plt.hlines(len_texts.value_counts().mean(), xmin=0, xmax=500, colors='springgreen', label='mean count')\n",
    "plt.bar(len_texts.value_counts().index, len_texts.value_counts(), color='#ABE85D')\n",
    "plt.legend()\n",
    "plt.show()"
   ]
  },
  {
   "cell_type": "markdown",
   "metadata": {},
   "source": [
    "# Преобразование даты"
   ]
  },
  {
   "cell_type": "markdown",
   "metadata": {},
   "source": [
    "Уменьшим число признаков"
   ]
  },
  {
   "cell_type": "code",
   "execution_count": 7,
   "metadata": {},
   "outputs": [
    {
     "data": {
      "text/html": [
       "<div>\n",
       "<style scoped>\n",
       "    .dataframe tbody tr th:only-of-type {\n",
       "        vertical-align: middle;\n",
       "    }\n",
       "\n",
       "    .dataframe tbody tr th {\n",
       "        vertical-align: top;\n",
       "    }\n",
       "\n",
       "    .dataframe thead th {\n",
       "        text-align: right;\n",
       "    }\n",
       "</style>\n",
       "<table border=\"1\" class=\"dataframe\">\n",
       "  <thead>\n",
       "    <tr style=\"text-align: right;\">\n",
       "      <th></th>\n",
       "      <th>Исполнитель</th>\n",
       "      <th>Группа тем</th>\n",
       "      <th>Текст инцидента</th>\n",
       "      <th>Тема</th>\n",
       "    </tr>\n",
       "  </thead>\n",
       "  <tbody>\n",
       "    <tr>\n",
       "      <th>0</th>\n",
       "      <td>Лысьвенский городской округ</td>\n",
       "      <td>Благоустройство</td>\n",
       "      <td>'Добрый день. Сегодня, 20.08.22, моя мать шла ...</td>\n",
       "      <td>★ Ямы во дворах</td>\n",
       "    </tr>\n",
       "    <tr>\n",
       "      <th>1</th>\n",
       "      <td>Министерство социального развития ПК</td>\n",
       "      <td>Социальное обслуживание и защита</td>\n",
       "      <td>'Пермь г, +79194692145. В Перми с ноября 2021 ...</td>\n",
       "      <td>Оказание гос. соц. помощи</td>\n",
       "    </tr>\n",
       "    <tr>\n",
       "      <th>2</th>\n",
       "      <td>Министерство социального развития ПК</td>\n",
       "      <td>Социальное обслуживание и защита</td>\n",
       "      <td>'Добрый день ! Скажите пожалуйста если подовал...</td>\n",
       "      <td>Дети и многодетные семьи</td>\n",
       "    </tr>\n",
       "    <tr>\n",
       "      <th>3</th>\n",
       "      <td>Город Пермь</td>\n",
       "      <td>Общественный транспорт</td>\n",
       "      <td>'Каждая из них не о чем. Люди на остановках хо...</td>\n",
       "      <td>Содержание остановок</td>\n",
       "    </tr>\n",
       "    <tr>\n",
       "      <th>4</th>\n",
       "      <td>Министерство здравоохранения</td>\n",
       "      <td>Здравоохранение/Медицина</td>\n",
       "      <td>'В Березниках у сына привитого откоронавируса ...</td>\n",
       "      <td>Технические проблемы с записью на прием к врачу</td>\n",
       "    </tr>\n",
       "  </tbody>\n",
       "</table>\n",
       "</div>"
      ],
      "text/plain": [
       "                            Исполнитель                        Группа тем  \\\n",
       "0           Лысьвенский городской округ                   Благоустройство   \n",
       "1  Министерство социального развития ПК  Социальное обслуживание и защита   \n",
       "2  Министерство социального развития ПК  Социальное обслуживание и защита   \n",
       "3                           Город Пермь            Общественный транспорт   \n",
       "4          Министерство здравоохранения          Здравоохранение/Медицина   \n",
       "\n",
       "                                     Текст инцидента  \\\n",
       "0  'Добрый день. Сегодня, 20.08.22, моя мать шла ...   \n",
       "1  'Пермь г, +79194692145. В Перми с ноября 2021 ...   \n",
       "2  'Добрый день ! Скажите пожалуйста если подовал...   \n",
       "3  'Каждая из них не о чем. Люди на остановках хо...   \n",
       "4  'В Березниках у сына привитого откоронавируса ...   \n",
       "\n",
       "                                              Тема  \n",
       "0                                  ★ Ямы во дворах  \n",
       "1                        Оказание гос. соц. помощи  \n",
       "2                         Дети и многодетные семьи  \n",
       "3                             Содержание остановок  \n",
       "4  Технические проблемы с записью на прием к врачу  "
      ]
     },
     "execution_count": 7,
     "metadata": {},
     "output_type": "execute_result"
    }
   ],
   "source": [
    "theme_group_counts = data['Группа тем'].value_counts()\n",
    "b = theme_group_counts[theme_group_counts > theme_group_counts.median()].index.to_list()\n",
    "data_rem_c = data.loc[data['Группа тем'].apply(lambda a: a in b)]\n",
    "data_rem_c.head()"
   ]
  },
  {
   "cell_type": "code",
   "execution_count": 8,
   "metadata": {},
   "outputs": [
    {
     "name": "stdout",
     "output_type": "stream",
     "text": [
      "OS: (1560, 2)\n",
      "Prev: (22567, 4)\n"
     ]
    },
    {
     "data": {
      "text/html": [
       "<div>\n",
       "<style scoped>\n",
       "    .dataframe tbody tr th:only-of-type {\n",
       "        vertical-align: middle;\n",
       "    }\n",
       "\n",
       "    .dataframe tbody tr th {\n",
       "        vertical-align: top;\n",
       "    }\n",
       "\n",
       "    .dataframe thead th {\n",
       "        text-align: right;\n",
       "    }\n",
       "</style>\n",
       "<table border=\"1\" class=\"dataframe\">\n",
       "  <thead>\n",
       "    <tr style=\"text-align: right;\">\n",
       "      <th></th>\n",
       "      <th>Текст инцидента</th>\n",
       "      <th>Группа тем</th>\n",
       "    </tr>\n",
       "  </thead>\n",
       "  <tbody>\n",
       "    <tr>\n",
       "      <th>10484</th>\n",
       "      <td>'Это собака с металлистов 24 2 подъезд, её час...</td>\n",
       "      <td>Безопасность</td>\n",
       "    </tr>\n",
       "    <tr>\n",
       "      <th>5528</th>\n",
       "      <td>'Сегодня на Фрунзе целая стая штук 20 бегает, ...</td>\n",
       "      <td>Безопасность</td>\n",
       "    </tr>\n",
       "    <tr>\n",
       "      <th>6455</th>\n",
       "      <td>'Добрый день! Некая религиозная организация об...</td>\n",
       "      <td>Безопасность</td>\n",
       "    </tr>\n",
       "    <tr>\n",
       "      <th>22524</th>\n",
       "      <td>'Пермь г, +79824940415. Доброго дня!\\n\\n\\nПрош...</td>\n",
       "      <td>Безопасность</td>\n",
       "    </tr>\n",
       "    <tr>\n",
       "      <th>1618</th>\n",
       "      <td>'#9вопросовчиновникам&lt;br&gt;А вот та самая лохмат...</td>\n",
       "      <td>Безопасность</td>\n",
       "    </tr>\n",
       "  </tbody>\n",
       "</table>\n",
       "</div>"
      ],
      "text/plain": [
       "                                         Текст инцидента    Группа тем\n",
       "10484  'Это собака с металлистов 24 2 подъезд, её час...  Безопасность\n",
       "5528   'Сегодня на Фрунзе целая стая штук 20 бегает, ...  Безопасность\n",
       "6455   'Добрый день! Некая религиозная организация об...  Безопасность\n",
       "22524  'Пермь г, +79824940415. Доброго дня!\\n\\n\\nПрош...  Безопасность\n",
       "1618   '#9вопросовчиновникам<br>А вот та самая лохмат...  Безопасность"
      ]
     },
     "execution_count": 8,
     "metadata": {},
     "output_type": "execute_result"
    }
   ],
   "source": [
    "name_os, system_os = RandomUnderSampler().fit_resample(data_rem_c.loc[:, ['Текст инцидента']], data_rem_c['Группа тем'])\n",
    "data_os = pd.DataFrame({'Текст инцидента': name_os['Текст инцидента'], 'Группа тем': system_os})\n",
    "print(\"OS:\", data_os.shape)\n",
    "print(\"Prev:\", data_rem_c.shape)\n",
    "data_os.head()"
   ]
  },
  {
   "cell_type": "code",
   "execution_count": 24,
   "metadata": {},
   "outputs": [],
   "source": [
    "theme_group_classes = {j: i for i, j in enumerate(data_os['Группа тем'].unique())}"
   ]
  },
  {
   "cell_type": "code",
   "execution_count": 26,
   "metadata": {},
   "outputs": [],
   "source": [
    "X_train_os, X_test_os, y_train_os, y_test_os = train_test_split(data_os['Текст инцидента'], data_os['Группа тем'])\n",
    "X_train, X_test, y_train, y_test = train_test_split(data_os['Текст инцидента'], data_os['Группа тем'])\n",
    "pd.DataFrame({'name': X_train_os, 'system': y_train_os}).to_csv('./os_dataset_train.csv', index=False)\n",
    "pd.DataFrame({'name': X_test_os, 'system': y_test_os}).to_csv('./os_dataset_test.csv', index=False)\n",
    "\n",
    "\n",
    "def processing(pair):\n",
    "    with torch.no_grad():\n",
    "        e = tokenizer(pair[0], padding=True, truncation=True, max_length=128, return_tensors='pt')\n",
    "        k = sentence_vectorizer(**e)[0]\n",
    "    return (k, torch.nn.functional.one_hot(torch.tensor([theme_group_classes[pair[1]]]), len(theme_group_classes))[0])"
   ]
  },
  {
   "cell_type": "code",
   "execution_count": 27,
   "metadata": {},
   "outputs": [
    {
     "name": "stdout",
     "output_type": "stream",
     "text": [
      "<class 'torch.utils.data.datapipes.iter.callable.MapperIterDataPipe'>\n",
      "(torch.Size([1, 17, 1024]), torch.Size([13]))\n",
      "(torch.Size([1, 11, 1024]), torch.Size([13]))\n"
     ]
    }
   ],
   "source": [
    "train_pairs = torchdata.datapipes.iter.IterableWrapper(['./os_dataset_train.csv'])\n",
    "train_pairs = torchdata.datapipes.iter.FileOpener(train_pairs, mode='r', encoding='utf-8', )\n",
    "train_pairs = train_pairs.parse_csv(skip_lines=1, delimiter=',')\n",
    "train_pairs = train_pairs.shuffle().map(processing)\n",
    "print_simple_data_pipe(train_pairs, lambda a: (a[0].shape, a[1].shape), n=1)"
   ]
  },
  {
   "cell_type": "markdown",
   "metadata": {},
   "source": [
    "# Build Model"
   ]
  },
  {
   "cell_type": "code",
   "execution_count": 28,
   "metadata": {},
   "outputs": [],
   "source": [
    "transformer_model = torch.nn.Transformer(d_model=1024, nhead=16, num_encoder_layers=12)"
   ]
  },
  {
   "cell_type": "code",
   "execution_count": 58,
   "metadata": {},
   "outputs": [
    {
     "data": {
      "text/plain": [
       "torch.Size([24, 3, 1024])"
      ]
     },
     "execution_count": 58,
     "metadata": {},
     "output_type": "execute_result"
    }
   ],
   "source": [
    "model_output[0].transpose(0, 1).shape"
   ]
  },
  {
   "cell_type": "code",
   "execution_count": 37,
   "metadata": {},
   "outputs": [
    {
     "data": {
      "text/plain": [
       "torch.Size([3, 1024])"
      ]
     },
     "execution_count": 37,
     "metadata": {},
     "output_type": "execute_result"
    }
   ],
   "source": [
    "transformer_model(model_output[0].transpose(0, 1), torch.rand((1, 3, 1024))).transpose(0, 1).squeeze(1).shape"
   ]
  },
  {
   "cell_type": "code",
   "execution_count": 101,
   "metadata": {},
   "outputs": [],
   "source": [
    "class VecSeqModel(torch.nn.Module):\n",
    "    def __init__(self, d_model, nhead, num_encoder_layers, d_output):\n",
    "        super().__init__()\n",
    "        self.transformer = torch.nn.Transformer(d_model=d_model, nhead=nhead, num_encoder_layers=num_encoder_layers)\n",
    "        self.output_layer = torch.nn.Linear(d_model, d_output)\n",
    "    \n",
    "    def forward(self, x):\n",
    "        y = x.transpose(0, 1).float()\n",
    "        m = torch.ones(1, y.shape[1], y.shape[2]).float().to('cuda')\n",
    "        # print(y.shape, m.shape)\n",
    "        y = self.transformer(y, m).transpose(0, 1).squeeze(1)\n",
    "        # print('l', y.shape)\n",
    "        y = self.output_layer(y)\n",
    "        return y"
   ]
  },
  {
   "cell_type": "code",
   "execution_count": 102,
   "metadata": {},
   "outputs": [],
   "source": [
    "model = VecSeqModel(\n",
    "    d_model=1024, \n",
    "    nhead=16, \n",
    "    num_encoder_layers=5, \n",
    "    d_output=13\n",
    ").to('cuda')"
   ]
  },
  {
   "cell_type": "code",
   "execution_count": 103,
   "metadata": {},
   "outputs": [],
   "source": [
    "loss = torch.nn.CrossEntropyLoss()\n",
    "optimizer = torch.optim.Adam(model.parameters(), lr=0.005)"
   ]
  },
  {
   "cell_type": "code",
   "execution_count": 104,
   "metadata": {},
   "outputs": [],
   "source": [
    "er_list = []"
   ]
  },
  {
   "cell_type": "code",
   "execution_count": 105,
   "metadata": {},
   "outputs": [
    {
     "name": "stdout",
     "output_type": "stream",
     "text": [
      "0\n",
      "Эпоха 1, Значение функции потерь: 2.4550023078918457\n",
      "1\n",
      "Эпоха 2, Значение функции потерь: 2.4064314365386963\n",
      "2\n",
      "Эпоха 3, Значение функции потерь: 2.6758651733398438\n",
      "3\n",
      "Эпоха 4, Значение функции потерь: 2.9969875812530518\n",
      "4\n",
      "Эпоха 5, Значение функции потерь: 2.709796190261841\n",
      "5\n",
      "Эпоха 6, Значение функции потерь: 2.9478578567504883\n",
      "6\n",
      "Эпоха 7, Значение функции потерь: 2.657487392425537\n",
      "7\n",
      "Эпоха 8, Значение функции потерь: 2.2277629375457764\n",
      "8\n",
      "Эпоха 9, Значение функции потерь: 3.0569655895233154\n",
      "9\n",
      "Эпоха 10, Значение функции потерь: 2.854581832885742\n",
      "10\n",
      "Эпоха 11, Значение функции потерь: 3.100590944290161\n",
      "11\n",
      "Эпоха 12, Значение функции потерь: 2.4538111686706543\n",
      "12\n",
      "Эпоха 13, Значение функции потерь: 2.5494165420532227\n",
      "13\n",
      "Эпоха 14, Значение функции потерь: 2.3423750400543213\n",
      "14\n",
      "Эпоха 15, Значение функции потерь: 1.5860811471939087\n",
      "15\n",
      "Эпоха 16, Значение функции потерь: 2.8950929641723633\n",
      "16\n",
      "Эпоха 17, Значение функции потерь: 2.125772714614868\n",
      "17\n",
      "Эпоха 18, Значение функции потерь: 2.7248878479003906\n",
      "18\n"
     ]
    }
   ],
   "source": [
    "epochs = 50\n",
    "for epoch in range(epochs):\n",
    "    print(epoch)\n",
    "    for x, y in train_pairs:\n",
    "        outputs = model(x.to('cuda'))\n",
    "        loss_value = loss(outputs, y.view(1, -1).double().to('cuda'))\n",
    "        loss_value.backward(retain_graph=True)\n",
    "        optimizer.step()\n",
    "        optimizer.zero_grad()\n",
    "    er_list.append(loss_value.item())\n",
    "    print(f'Эпоха {epoch + 1}, Значение функции потерь: {loss_value.item()}')"
   ]
  }
 ],
 "metadata": {
  "kernelspec": {
   "display_name": "IntDB",
   "language": "python",
   "name": "python3"
  },
  "language_info": {
   "codemirror_mode": {
    "name": "ipython",
    "version": 3
   },
   "file_extension": ".py",
   "mimetype": "text/x-python",
   "name": "python",
   "nbconvert_exporter": "python",
   "pygments_lexer": "ipython3",
   "version": "3.9.2"
  }
 },
 "nbformat": 4,
 "nbformat_minor": 2
}
